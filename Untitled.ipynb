{
 "cells": [
  {
   "cell_type": "code",
   "execution_count": 1,
   "metadata": {},
   "outputs": [],
   "source": [
    "import os\n",
    "import random\n",
    "import pickle\n",
    "import zipfile\n",
    "import numpy as np\n",
    "from tqdm import tqdm\n",
    "import pandas as pd\n",
    "import tensorflow as tf      #the progress bar\n",
    "import en_core_web_sm as en  #from the spaCy library, https://spacy.io/usage/"
   ]
  },
  {
   "cell_type": "code",
   "execution_count": 2,
   "metadata": {},
   "outputs": [],
   "source": [
    "path = './data/'\n",
    "outfile = \"./data/output/\""
   ]
  },
  {
   "cell_type": "code",
   "execution_count": null,
   "metadata": {},
   "outputs": [],
   "source": []
  },
  {
   "cell_type": "code",
   "execution_count": 3,
   "metadata": {},
   "outputs": [],
   "source": [
    "df = pd.read_csv(path+'train.csv')"
   ]
  },
  {
   "cell_type": "code",
   "execution_count": null,
   "metadata": {},
   "outputs": [
    {
     "name": "stderr",
     "output_type": "stream",
     "text": [
      "  0%|▏                                                                       | 3676/1306122 [00:30<3:00:15, 120.42it/s]"
     ]
    }
   ],
   "source": [
    "def tokenize_text(text, nr_to_delete = 0):\n",
    "    nlp = en.load()      #load the tokenizer\n",
    "    \n",
    "    batch_lenght = nlp.max_length\n",
    "    nlp.max_length += 1\n",
    "    text_tokenized = []  #every token in the original order\n",
    "    tokens_count = {}    #a dict with everry word with his count\n",
    "    vocab = []           #every unique word in the appearance order  \n",
    "    batches_tokenized = []\n",
    "    \n",
    "    batches = text.tolist()\n",
    "\n",
    "    del text  #delete the original text so we save memory\n",
    "    \n",
    "    index = 0 \n",
    "    bar  = tqdm(total = len(batches))\n",
    "    \n",
    "    for batch in batches:  #tqdm is the progress bar\n",
    "        tokens = nlp(batch)\n",
    "        batch_tokenized = []\n",
    "        for token in tokens:\n",
    "            text_tokenized.append(token.string.strip())\n",
    "            batch_tokenized.append(text_tokenized[-1])\n",
    "            if text_tokenized[-1] in tokens_count:\n",
    "                tokens_count[text_tokenized[-1]] += 1\n",
    "            else:\n",
    "                tokens_count[text_tokenized[-1]] = 1\n",
    "        batches_tokenized.append(batch_tokenized)\n",
    "        bar.update(1)\n",
    "        \n",
    "    vocab = sorted(tokens_count, key=tokens_count.__getitem__) #get a list with the keys of the dict sorted by the nr of appearances\n",
    "    \n",
    "    if nr_to_delete > 0:\n",
    "        sum = 0\n",
    "        unk = vocab[:nr_to_delete]   #save a nr of words with the least appearances \n",
    "        for el in unk:               # delete the saved words and sum their appearence in sum\n",
    "            sum += tokens_count[el]\n",
    "            del tokens_count[el]\n",
    "        tokens_count['UNK'] = sum    #replace the words with the \"UNK\" key\n",
    "\n",
    "        vocab = sorted(tokens_count, key=tokens_count.__getitem__)  #resort he dict so we get the vocab without the words with the least appearences\n",
    "\n",
    "        for idx,word in enumerate(text_tokenized): #replace the saved words with the \"UNK\" in the text\n",
    "            for w in unk:\n",
    "                if w == word:\n",
    "                    text_tokenized[idx] = 'UNK'             \n",
    "    \n",
    "    return batches_tokenized,text_tokenized,vocab       \n",
    "    \n",
    "#tokenized_text, vocab = tokenize_text(text[:2500000])    \n",
    "batches_tokenized, text_tokenized, vocab = tokenize_text( df.values[:,1] ) #input: nparray with all the questions"
   ]
  },
  {
   "cell_type": "code",
   "execution_count": null,
   "metadata": {},
   "outputs": [],
   "source": [
    "pickle.dump(batches_tokenized,outfile + 'batches_tokenized')\n",
    "outfile.close()"
   ]
  },
  {
   "cell_type": "code",
   "execution_count": null,
   "metadata": {},
   "outputs": [],
   "source": []
  }
 ],
 "metadata": {
  "kernelspec": {
   "display_name": "Python 3",
   "language": "python",
   "name": "python3"
  },
  "language_info": {
   "codemirror_mode": {
    "name": "ipython",
    "version": 3
   },
   "file_extension": ".py",
   "mimetype": "text/x-python",
   "name": "python",
   "nbconvert_exporter": "python",
   "pygments_lexer": "ipython3",
   "version": "3.6.6"
  }
 },
 "nbformat": 4,
 "nbformat_minor": 2
}
