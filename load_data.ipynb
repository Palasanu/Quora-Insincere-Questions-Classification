{
 "cells": [
  {
   "cell_type": "code",
   "execution_count": null,
   "metadata": {},
   "outputs": [],
   "source": [
    "import en_core_web_sm as en  #from the spaCy library \n",
    "nlp = en.load()"
   ]
  },
  {
   "cell_type": "code",
   "execution_count": null,
   "metadata": {},
   "outputs": [],
   "source": [
    "def tokenize_text(text, nr_to_delete = 10):\n",
    "    nlp = en.load()      #load the tokenizer\n",
    "    \n",
    "    batch_lenght = nlp.max_length\n",
    "    nlp.max_length += 1\n",
    "    text_tokenized = []  #every token in the original order\n",
    "    tokens_count = {}    #a dict with everry word with his count\n",
    "    vocab = []           #every unique word in the appearance order  \n",
    "\n",
    "    batches = [text[x:x+batch_lenght] for x in range(0, len(text), batch_lenght)]  #place the text in n batchez of size batch_lenght\n",
    "\n",
    "    del text  #delete the original text so we save memory\n",
    "\n",
    "    for batch in tqdm(batches):  #tqdm is the progress bar\n",
    "        tokens = nlp(batch)         \n",
    "        for token in tokens:\n",
    "            text_tokenized.append(token.string.strip())\n",
    "            if text_tokenized[-1] in tokens_count:\n",
    "                tokens_count[text_tokenized[-1]] += 1\n",
    "            else:\n",
    "                tokens_count[text_tokenized[-1]] = 1\n",
    "\n",
    "    vocab = sorted(tokens_count, key=tokens_count.__getitem__) #get a list with the keys of the dict sorted by the nr of appearances\n",
    "    \n",
    "    sum = 0\n",
    "    unk = vocab[:nr_to_delete]   #save a nr of words with the least appearances \n",
    "    for el in unk:               # delete the saved words and sum their appearence in sum\n",
    "        sum += tokens_count[el]\n",
    "        del tokens_count[el]\n",
    "    tokens_count['UNK'] = sum    #replace the words with the \"UNK\" key\n",
    "    \n",
    "    vocab = sorted(tokens_count, key=tokens_count.__getitem__)  #resort he dict so we get the vocab without the words with the least appearences\n",
    "    \n",
    "    for idx,word in enumerate(text_tokenized): #replace the saved words with the \"UNK\" in the text\n",
    "        for w in unk:\n",
    "            if w == word:\n",
    "                text_tokenized[idx] = 'UNK'             \n",
    "    \n",
    "    return text_tokenized,vocab       \n",
    "    \n",
    "tokenize_text, vocab = process_text(text[:2500000])    "
   ]
  }
 ],
 "metadata": {
  "kernelspec": {
   "display_name": "Python 3",
   "language": "python",
   "name": "python3"
  }
 },
 "nbformat": 4,
 "nbformat_minor": 2
}
