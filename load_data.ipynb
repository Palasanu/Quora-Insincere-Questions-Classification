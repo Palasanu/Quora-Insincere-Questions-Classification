{
 "cells": [
  {
   "cell_type": "code",
   "execution_count": 18,
   "metadata": {},
   "outputs": [],
   "source": [
    "import os\n",
    "import random\n",
    "import pickle\n",
    "import zipfile\n",
    "from tqdm import tqdm\n",
    "import tensorflow as tf\n",
    "import en_core_web_sm as en  #from the spaCy library, https://spacy.io/usage/"
   ]
  },
  {
   "cell_type": "code",
   "execution_count": 16,
   "metadata": {},
   "outputs": [],
   "source": [
    "filename = './data/text8.zip'"
   ]
  },
  {
   "cell_type": "code",
   "execution_count": 20,
   "metadata": {},
   "outputs": [
    {
     "name": "stdout",
     "output_type": "stream",
     "text": [
      "Len of data: 100000000\n"
     ]
    }
   ],
   "source": [
    "def read_data(filename):\n",
    "  with zipfile.ZipFile(filename) as f:\n",
    "    text = tf.compat.as_str(f.read(f.namelist()[0]))\n",
    "  return text\n",
    "\n",
    "text = read_data(filename)\n",
    "print(\"Len of data:\", len(text))"
   ]
  },
  {
   "cell_type": "code",
   "execution_count": 55,
   "metadata": {},
   "outputs": [
    {
     "name": "stderr",
     "output_type": "stream",
     "text": [
      "100%|████████████████████████████████████████████████████████████████████████████████████| 3/3 [01:07<00:00, 22.79s/it]\n"
     ]
    }
   ],
   "source": [
    "def tokenize_text(text, nr_to_delete = 10):\n",
    "    nlp = en.load()      #load the tokenizer\n",
    "    \n",
    "    batch_lenght = nlp.max_length\n",
    "    nlp.max_length += 1\n",
    "    text_tokenized = []  #every token in the original order\n",
    "    tokens_count = {}    #a dict with everry word with his count\n",
    "    vocab = []           #every unique word in the appearance order  \n",
    "\n",
    "    batches = [text[x:x+batch_lenght] for x in range(0, len(text), batch_lenght)]  #place the text in n batchez of size batch_lenght\n",
    "\n",
    "    del text  #delete the original text so we save memory\n",
    "\n",
    "    for batch in tqdm(batches):  #tqdm is the progress bar\n",
    "        tokens = nlp(batch)         \n",
    "        for token in tokens:\n",
    "            text_tokenized.append(token.string.strip())\n",
    "            if text_tokenized[-1] in tokens_count:\n",
    "                tokens_count[text_tokenized[-1]] += 1\n",
    "            else:\n",
    "                tokens_count[text_tokenized[-1]] = 1\n",
    "\n",
    "    vocab = sorted(tokens_count, key=tokens_count.__getitem__) #get a list with the keys of the dict sorted by the nr of appearances\n",
    "    \n",
    "    sum = 0\n",
    "    unk = vocab[:nr_to_delete]   #save a nr of words with the least appearances \n",
    "    for el in unk:               # delete the saved words and sum their appearence in sum\n",
    "        sum += tokens_count[el]\n",
    "        del tokens_count[el]\n",
    "    tokens_count['UNK'] = sum    #replace the words with the \"UNK\" key\n",
    "    \n",
    "    vocab = sorted(tokens_count, key=tokens_count.__getitem__)  #resort he dict so we get the vocab without the words with the least appearences\n",
    "    \n",
    "    for idx,word in enumerate(text_tokenized): #replace the saved words with the \"UNK\" in the text\n",
    "        for w in unk:\n",
    "            if w == word:\n",
    "                text_tokenized[idx] = 'UNK'             \n",
    "    \n",
    "    return text_tokenized,vocab       \n",
    "    \n",
    "tokenized_text, vocab = tokenize_text(text[:2500000])    "
   ]
  },
  {
   "cell_type": "code",
   "execution_count": 57,
   "metadata": {},
   "outputs": [],
   "source": [
    "def tokens_to_index(tokenized_text,vocab):\n",
    "    word_to_index = {}\n",
    "    index_to_word = {}\n",
    "    \n",
    "    for idx, word in enumerate(vocab): #create the two dictionaries\n",
    "        word_to_index[word] = idx\n",
    "        index_to_word[idx] = word\n",
    "    \n",
    "    for idx,token in enumerate(tokenized_text): #replace the text with the word indexes\n",
    "        tokenized_text[idx] = word_to_index[token]\n",
    "    \n",
    "    return tokenized_text, word_to_index, index_to_word \n",
    "tokenized_text, word_to_index, index_to_word = tokens_to_index(tokenized_text,vocab)"
   ]
  },
  {
   "cell_type": "code",
   "execution_count": 58,
   "metadata": {},
   "outputs": [
    {
     "data": {
      "text/plain": [
       "[26166, 29878, 27422, 30286, 30292, 30097, 30296, 26884, 30245, 30229]"
      ]
     },
     "execution_count": 58,
     "metadata": {},
     "output_type": "execute_result"
    }
   ],
   "source": [
    "tokenized_text[:10]"
   ]
  },
  {
   "cell_type": "code",
   "execution_count": 66,
   "metadata": {},
   "outputs": [],
   "source": [
    "def idx_to_text(tokenized_text):\n",
    "    str_text = ''\n",
    "    for index in tokenized_text:\n",
    "        str_text += str(index_to_word[index])+' '\n",
    "    return str_text"
   ]
  },
  {
   "cell_type": "code",
   "execution_count": 68,
   "metadata": {},
   "outputs": [
    {
     "data": {
      "text/plain": [
       "'UNK anarchism originated as a term of abuse first used '"
      ]
     },
     "execution_count": 68,
     "metadata": {},
     "output_type": "execute_result"
    }
   ],
   "source": [
    "idx_to_text(tokenized_text[:10])"
   ]
  },
  {
   "cell_type": "code",
   "execution_count": null,
   "metadata": {},
   "outputs": [],
   "source": []
  }
 ],
 "metadata": {
  "kernelspec": {
   "display_name": "Python 3",
   "language": "python",
   "name": "python3"
  },
  "language_info": {
   "codemirror_mode": {
    "name": "ipython",
    "version": 3
   },
   "file_extension": ".py",
   "mimetype": "text/x-python",
   "name": "python",
   "nbconvert_exporter": "python",
   "pygments_lexer": "ipython3",
   "version": "3.6.7"
  }
 },
 "nbformat": 4,
 "nbformat_minor": 2
}
