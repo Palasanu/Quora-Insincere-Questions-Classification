{
 "cells": [
  {
   "cell_type": "code",
   "execution_count": 1,
   "metadata": {
    "_uuid": "78a1697e883b5fa55847d808bb1b81643f919a46"
   },
   "outputs": [
    {
     "name": "stderr",
     "output_type": "stream",
     "text": [
      "Using TensorFlow backend.\n"
     ]
    }
   ],
   "source": [
    "# script made on 16gb of ram\n",
    "import os\n",
    "import io\n",
    "import os.path\n",
    "import random\n",
    "import pickle\n",
    "import zipfile\n",
    "import nltk\n",
    "from math import ceil\n",
    "from copy import deepcopy\n",
    "import numpy as np\n",
    "from tqdm import tqdm\n",
    "import pandas as pd\n",
    "import tensorflow as tf      #the progress bar\n",
    "import en_core_web_sm as en  #from the spaCy library, https://spacy.io/usage/\n",
    "from sklearn.metrics import f1_score\n",
    "\n",
    "from  tensorflow.keras.backend import binary_crossentropy\n",
    "from keras.layers import Dense, Input, LSTM, Embedding, Dropout, Activation, CuDNNGRU, Conv1D\n",
    "from keras.layers import Bidirectional, GlobalMaxPool1D\n",
    "from keras.models import Model\n",
    "from keras import initializers, regularizers, constraints, optimizers, layers\n"
   ]
  },
  {
   "cell_type": "code",
   "execution_count": 2,
   "metadata": {
    "_uuid": "32527401fa956da5514985117d3ba73f78a80b24"
   },
   "outputs": [],
   "source": [
    "filename = \"./data/train.csv\"\n",
    "testname = \"./data/test.csv\"\n",
    "output = \"./data/output/\""
   ]
  },
  {
   "cell_type": "code",
   "execution_count": 3,
   "metadata": {
    "_uuid": "d761b00e58dc29f20f27dd5e9d2faccbd386c678"
   },
   "outputs": [],
   "source": [
    "# enb_path = 'input/embeddings/wiki-news-300d-1M/' + 'wiki-news-300d-1M.vec'\n",
    "# enb_path = 'input/embeddings/GoogleNews-vectors-negative300/'\n",
    "# enb_path = 'input/embeddings/paragram_300_sl999/'\n",
    "enb_path = \"./data/embeddings/glove.840B.300d/glove.840B.300d.txt\""
   ]
  },
  {
   "cell_type": "code",
   "execution_count": 4,
   "metadata": {},
   "outputs": [],
   "source": [
    "class Batch():\n",
    "    def __init__(self, data, labels, size = 64):\n",
    "        self.data = data\n",
    "        self.lenght = len(self.data )\n",
    "        del data\n",
    "        self.labels = labels\n",
    "        self.size = size\n",
    "        self.index = 0\n",
    "    \n",
    "    def __next__(self):\n",
    "        \n",
    "        \n",
    "        if (self.index >= self.lenght):\n",
    "            raise StopIteration()  \n",
    "        \n",
    "        if (self.index + self.size > self.lenght):\n",
    "            self.size = self.lenght - self.index \n",
    "        \n",
    "        self.index += self.size  \n",
    "        \n",
    "        return self.data[self.index-self.size:self.index],self.labels[self.index-self.size:self.index]        \n",
    "    \n",
    "    def __len__(self):\n",
    "        return ceil(len(self.data)/self.size)\n",
    "    \n",
    "    def reset(self):\n",
    "        self.index = 0\n",
    "    \n",
    "    def __iter__(self):\n",
    "        return self"
   ]
  },
  {
   "cell_type": "code",
   "execution_count": 5,
   "metadata": {
    "_uuid": "e9a828213eedcd8ddda4d47e78c9a72174235357"
   },
   "outputs": [],
   "source": [
    "#global variables to save memory\n",
    "# _t is for tokenized\n",
    "embeddings = []      #np array of embeddings\n",
    "vocab = set([])          #the vocabulary from the enbeding file\n",
    "questions_train = []    #every question tokenized in an array\n",
    "questions_test = []\n",
    "#text_t = []         #all the questions concatenated and tokenized\n",
    "word_to_index = {}\n",
    "index_to_word = {}"
   ]
  },
  {
   "cell_type": "code",
   "execution_count": 6,
   "metadata": {
    "_uuid": "e465d9c60ed01f70c9322165f4509282c4f8957b"
   },
   "outputs": [],
   "source": [
    "def tokenize_questions(text,nr_to_delete = 0):\n",
    "    #nlp = en.load(tagger=False, entity=False)      #load the tokenizer\n",
    "    #global text_t       #every token in the original order\n",
    "    \n",
    "    #text_t = [] \n",
    "    questions_tokenized = []\n",
    "    \n",
    "    bar  = tqdm(total = len(text))\n",
    "    \n",
    "    for batch in text:  #tqdm is the progress bar\n",
    "        tokens = nltk.word_tokenize(batch)\n",
    "        batch_tokenized = []\n",
    "        for token in tokens:\n",
    "            batch_tokenized.append(token)\n",
    "        questions_tokenized.append(batch_tokenized)\n",
    "        bar.update(1)\n",
    "    bar.close()\n",
    "    return questions_tokenized"
   ]
  },
  {
   "cell_type": "code",
   "execution_count": 7,
   "metadata": {
    "_uuid": "30a4e6ffecc691f767afb05e430fe31a9689bc50",
    "scrolled": true
   },
   "outputs": [],
   "source": [
    "train_df = pd.read_csv(filename)    #test_t is for now a dataFrame"
   ]
  },
  {
   "cell_type": "code",
   "execution_count": 8,
   "metadata": {},
   "outputs": [],
   "source": [
    "test_df = pd.read_csv(testname)"
   ]
  },
  {
   "cell_type": "code",
   "execution_count": 9,
   "metadata": {},
   "outputs": [],
   "source": [
    "hashes = test_df.values[:,1].tolist()"
   ]
  },
  {
   "cell_type": "code",
   "execution_count": 10,
   "metadata": {},
   "outputs": [],
   "source": [
    "y = train_df.values[:,2].tolist()"
   ]
  },
  {
   "cell_type": "code",
   "execution_count": 11,
   "metadata": {
    "_uuid": "7db80bc8f30e251d4a0459c55e2400781b8240c8"
   },
   "outputs": [
    {
     "name": "stdout",
     "output_type": "stream",
     "text": [
      "Loading data...\n",
      "Nr of questions train:  1306122\n",
      "Nr of questions test :  56370\n",
      "The fist question tokenized from train:  ['How', 'did', 'Quebec', 'nationalists', 'see', 'their', 'province', 'as']\n",
      "The fist question tokenized from test :  ['My', 'voice', 'range', 'is', 'A2-C5', '.', 'My', 'chest', 'voice', 'goes']\n"
     ]
    }
   ],
   "source": [
    "# loadig the qustions tokenized, and all qustions concatenated tokenized\n",
    "\n",
    "if not os.path.isfile(output + \"questions_test\"):\n",
    "    questions_test = tokenize_questions( test_df.values[:,1].tolist() )   \n",
    "    with  open(output + \"questions_test\",'wb')  as file:\n",
    "        pickle.dump(questions_test, file)\n",
    "    if not os.path.isfile(output + \"questions_train\"):\n",
    "        questions_train = tokenize_questions( train_df.values[:,1].tolist() )\n",
    "        with  open(output + \"questions_train\",'wb')  as file:\n",
    "            pickle.dump(questions_train, file)\n",
    "            \n",
    "    #pickle.dump(text_t, open(output + \"text_t\",'wb') )\n",
    "else:\n",
    "    print(\"Loading data...\")\n",
    "    with open(output + \"questions_train\", \"rb\" ) as file:\n",
    "        questions_train = pickle.load( file )\n",
    "    with open(output + \"questions_test\", \"rb\" ) as file:\n",
    "        questions_test = pickle.load( file )\n",
    "        \n",
    "    #text_t = pickle.load( open(output + \"text_t\", \"rb\" ) )\n",
    "    print(\"Nr of questions train: \",len(questions_train))\n",
    "    print(\"Nr of questions test : \",len(questions_test))\n",
    "    #print(\"Nr of tokens:    \",len(text_t))\n",
    "\n",
    "print('The fist question tokenized from train: ', questions_train[0][:8])\n",
    "print('The fist question tokenized from test : ', questions_test[0][:10])"
   ]
  },
  {
   "cell_type": "code",
   "execution_count": 12,
   "metadata": {},
   "outputs": [
    {
     "name": "stdout",
     "output_type": "stream",
     "text": [
      "Nr of unique word in questions 314974\n"
     ]
    }
   ],
   "source": [
    "# saving the words from all the questions so we can remove \n",
    "# the ones that does not appear from embedings to save memory\n",
    "\n",
    "def get_questions_vocab(*args):     \n",
    "    vocab = set([])\n",
    "    for questions_set in args:\n",
    "        for question in questions_set:\n",
    "            for word in question:\n",
    "                vocab.add(word)\n",
    "    vocab.add('UNK') #we add an word for the unknown words in the future unseen questions \n",
    "    return vocab\n",
    "    \n",
    "vocab = get_questions_vocab(questions_train,questions_test)\n",
    "print(\"Nr of unique word in questions\",len(vocab))"
   ]
  },
  {
   "cell_type": "code",
   "execution_count": 13,
   "metadata": {
    "_uuid": "42977bc4a0039f3ccb6c1614544faf2e22b01ece"
   },
   "outputs": [],
   "source": [
    "def load_embeddings(enb_path,vocab):    \n",
    "    \n",
    "    print(\"Loading embeddings...\")\n",
    "    \n",
    "    with open(enb_path, 'r', encoding ='utf-8') as file:\n",
    "    \n",
    "        num_lines = sum(1 for line in file)\n",
    "        bar  = tqdm(total = num_lines)\n",
    "    \n",
    "        file.seek(0)\n",
    "    \n",
    "        vocab_enb = []\n",
    "        embeddings = []      \n",
    "        for line in file:\n",
    "            bar.update(1)\n",
    "            array = line[:-1].split(' ')\n",
    "            word = str(array[0])\n",
    "            if word in vocab:\n",
    "                vocab_enb.append(word)\n",
    "                embeddings.append(np.array(array[1:]).astype('float32'))      \n",
    "        bar.close()\n",
    "        \n",
    "    embeddings = np.stack(embeddings)\n",
    "    \n",
    "    return vocab_enb, embeddings"
   ]
  },
  {
   "cell_type": "code",
   "execution_count": 14,
   "metadata": {},
   "outputs": [
    {
     "name": "stdout",
     "output_type": "stream",
     "text": [
      "Loading embeddings...\n",
      "Embedings size:   (200543, 300)\n",
      "Vocabulary size:  200543\n",
      "\n",
      "The word \"the\" with his enmeding: \n",
      " [ 0.27204  -0.06203  -0.1884    0.023225 -0.018158] ...  [-0.018168  0.11407   0.13015  -0.18317   0.1323  ]\n"
     ]
    }
   ],
   "source": [
    "if not os.path.isfile(output + \"embeddings\"):\n",
    "    vocab, embeddings = load_embeddings(enb_path,vocab)\n",
    "    with open( output + \"embeddings\",'wb') as file:\n",
    "        pickle.dump(embeddings, file)\n",
    "    with open( output + \"vocabulary\",'wb') as file:\n",
    "        pickle.dump(vocab,open( output + \"vocabulary\",'wb'))\n",
    "else:\n",
    "    print(\"Loading embeddings...\")   \n",
    "    with open(output + \"embeddings\", \"rb\" ) as file:\n",
    "        embeddings = pickle.load( file )\n",
    "    with open( output + \"vocabulary\", \"rb\" ) as file:\n",
    "        vocab = pickle.load( file )\n",
    "print('Embedings size:  ',embeddings.shape)\n",
    "print('Vocabulary size: ', len(vocab))\n",
    "\n",
    "print('\\nThe word \"'+ vocab[2]+'\" with his enmeding: \\n' , embeddings[2][:5], \"... \", embeddings[2][-5:] )"
   ]
  },
  {
   "cell_type": "code",
   "execution_count": 15,
   "metadata": {},
   "outputs": [],
   "source": [
    "def initialze_padding(vocab,embeddings):\n",
    "    #we need to add the padding word to our vocabulary\n",
    "    #we need to add the padding word to our embedding matrix\n",
    "    \n",
    "    print(\"Adding the padding char to vocab and embeddings...\")\n",
    "    vocab = ['/pad']+vocab\n",
    "    pad_emb = []\n",
    "    for i in range(len(embeddings[0])):\n",
    "        pad_emb.append(0)\n",
    "    pad_emb = np.array(pad_emb)\n",
    "    embeddings = np.vstack([pad_emb,embeddings])\n",
    "    \n",
    "    return vocab, embeddings\n",
    "\n",
    "def create_dictionaries(vocab):\n",
    "    word_to_index = {}\n",
    "    index_to_word = {}\n",
    "    \n",
    "    for idx, word in enumerate(vocab): #create the two dictionaries\n",
    "        word_to_index[word] = idx\n",
    "        index_to_word[idx] = word\n",
    "        \n",
    "    return word_to_index, index_to_word\n",
    "\n",
    "def index_question_to_words(question_indexes):\n",
    "    question_words = \"\"\n",
    "    for word in question_indexes:\n",
    "        question_words += index_to_word[word] + ' '\n",
    "    return question_words\n",
    "\n",
    "def token_to_index(questions_tokenized, vocab):\n",
    "    \n",
    "    for question in questions_tokenized: #chage the input from strings to ids\n",
    "        for idx,word_token in enumerate(question): #replace the text with the word indexes\n",
    "             question[idx] = word_to_index.get(word_token, 89770) #if the token is not in vocab put \"UNK\"\n",
    "    return questions_tokenized\n",
    "\n",
    "def pad_questions(data, max_len = 60):\n",
    "    \n",
    "    print(\"Padding questions...\")\n",
    "    data_aux = deepcopy(data)\n",
    "    \n",
    "    padded_count = 0\n",
    "    cut_count = 0\n",
    "    for idx in tqdm(range(len(data_aux))):\n",
    "        question_len = len(data_aux[idx])\n",
    "        if question_len <= max_len:\n",
    "            padded_count += 1\n",
    "            for i in range(question_len, max_len):\n",
    "                data_aux[idx].append(0)\n",
    "        elif question_len > max_len:\n",
    "            cut_count += 1\n",
    "            data_aux[idx] = data_aux[idx][:max_len]\n",
    "        \n",
    "        if len(data_aux[idx])>max_len:\n",
    "            print(question_len)\n",
    "            print(question)\n",
    "            break\n",
    "            \n",
    "    print(\"Padded :\", padded_count)\n",
    "    print(\"Cut    :\", cut_count)\n",
    "    return data_aux"
   ]
  },
  {
   "cell_type": "code",
   "execution_count": 16,
   "metadata": {},
   "outputs": [
    {
     "name": "stdout",
     "output_type": "stream",
     "text": [
      "Adding the padding char to vocab and embeddings...\n"
     ]
    }
   ],
   "source": [
    "vocab,embeddings = initialze_padding(vocab,embeddings)\n",
    "\n",
    "word_to_index, index_to_word = create_dictionaries(vocab)"
   ]
  },
  {
   "cell_type": "code",
   "execution_count": 17,
   "metadata": {},
   "outputs": [
    {
     "name": "stdout",
     "output_type": "stream",
     "text": [
      "The word UNK to index       : 89770\n",
      "The intex for UNK to string : UNK\n",
      "The shape of enbedings      : (200544, 300)\n",
      "The first 5words from vocab : ['/pad', ',', '.', 'the', 'and', 'to', 'of', 'a', 'in', ':']\n"
     ]
    }
   ],
   "source": [
    "print('The word UNK to index       :', word_to_index['UNK'])\n",
    "print('The intex for UNK to string :', index_to_word[89770])\n",
    "print('The shape of enbedings      :', embeddings.shape)\n",
    "print('The first 5words from vocab :',vocab[:10])"
   ]
  },
  {
   "cell_type": "code",
   "execution_count": 18,
   "metadata": {},
   "outputs": [
    {
     "name": "stdout",
     "output_type": "stream",
     "text": [
      "Padding questions...\n"
     ]
    },
    {
     "name": "stderr",
     "output_type": "stream",
     "text": [
      "100%|███████████████████████████████████████████████████████████████| 1306122/1306122 [00:05<00:00, 250989.06it/s]\n"
     ]
    },
    {
     "name": "stdout",
     "output_type": "stream",
     "text": [
      "Padded : 1305836\n",
      "Cut    : 286\n",
      "Padding questions...\n"
     ]
    },
    {
     "name": "stderr",
     "output_type": "stream",
     "text": [
      "100%|███████████████████████████████████████████████████████████████████| 56370/56370 [00:00<00:00, 233599.82it/s]\n"
     ]
    },
    {
     "name": "stdout",
     "output_type": "stream",
     "text": [
      "Padded : 56356\n",
      "Cut    : 14\n"
     ]
    }
   ],
   "source": [
    "questions_train = token_to_index(questions_train,vocab)\n",
    "questions_test = token_to_index(questions_test,vocab)\n",
    "\n",
    "questions_train = pad_questions(questions_train)\n",
    "questions_test = pad_questions(questions_test)"
   ]
  },
  {
   "cell_type": "code",
   "execution_count": 19,
   "metadata": {},
   "outputs": [
    {
     "name": "stdout",
     "output_type": "stream",
     "text": [
      "First train question to intdexes :\n",
      "How did Quebec nationalists see their province as a nation in the 1960s ? /pad /pad /pad \n",
      "[254, 127, 9707, 53520, 118, 58, 7523, 28, 7, 1979, 8, 3, 10166, 37, 0, 0, 0, 0]\n",
      "\n",
      "First test question to intdexes  :\n",
      "My voice range is UNK . My chest voice goes up to F4 . Included sample in ...\n",
      "[208, 1282, 679, 10, 89770, 2, 208, 4411, 1282, 855, 61, 5, 40223, 2, 8870, 2617, 8, 44]\n"
     ]
    }
   ],
   "source": [
    "print(\"First train question to intdexes :\")\n",
    "print(index_question_to_words(questions_train[0][:17]))\n",
    "print(questions_train[0][:18])\n",
    "\n",
    "print(\"\\nFirst test question to intdexes  :\")\n",
    "print(index_question_to_words(questions_test[0][:17])+\"...\")\n",
    "print(questions_test[0][:18])"
   ]
  },
  {
   "cell_type": "code",
   "execution_count": 20,
   "metadata": {},
   "outputs": [],
   "source": [
    "def embedding_lookup(batch):\n",
    "    global embeddings\n",
    "    \n",
    "    batch_embedding = []\n",
    "    \n",
    "    for int_question in batch:\n",
    "        question_embedding = []\n",
    "\n",
    "        for int_word in int_question:\n",
    "            try:\n",
    "                question_embedding.append(embeddings[int_word])\n",
    "            except Exception:\n",
    "                print(int_word)\n",
    "        \n",
    "        enb = np.stack(question_embedding)\n",
    "        batch_embedding.append(enb)\n",
    "    for el in batch_embedding:\n",
    "        if len(el)!=60:\n",
    "            print(el.shape)\n",
    "    return np.stack(batch_embedding)"
   ]
  },
  {
   "cell_type": "code",
   "execution_count": 1,
   "metadata": {},
   "outputs": [],
   "source": [
    "def confusion_matrix(label, prediction):\n",
    "    true_positives = 0\n",
    "    false_positives = 0\n",
    "    true_negatives = 0\n",
    "    false_negatives = 0\n",
    " \n",
    "    for i in range(0, len(label)):\n",
    "        if prediction[i] == 1:\n",
    "            if prediction[i] == label[i]:\n",
    "                true_positives += 1\n",
    "            else:\n",
    "                false_positives += 1\n",
    "        else:\n",
    "            if prediction[i] == label[i]:\n",
    "                true_negatives += 1\n",
    "            else:\n",
    "                false_negatives += 1\n",
    "    return  true_positives, false_positives, true_negatives, false_negatives\n",
    "\n",
    "def scores(thresholds,output,label):\n",
    "    best_f1 = 0.0\n",
    "    best_out = []\n",
    "    thresh = 0.0\n",
    "    for th_val in thresholds:\n",
    "                aux_output = np.copy(output)\n",
    "                aux_output[aux_output<=th_val] = bool(0)\n",
    "                aux_output[aux_output>th_val] = bool(1)\n",
    "\n",
    "                true_positives, false_positives, true_negatives, false_negatives = confusion_matrix(label,aux_output)\n",
    "                accuracy = (true_positives + true_negatives) / (true_positives \\\n",
    "                            + true_negatives + false_positives + false_negatives)\n",
    "                \n",
    "                if true_positives + false_positives == 0:\n",
    "                    precision = 0.001\n",
    "                else:\n",
    "                    precision  = true_positives / (true_positives + false_positives)\n",
    "                \n",
    "                if true_positives == 0:\n",
    "                    recall = 0.001\n",
    "                else:\n",
    "                    recall = true_positives / (true_positives + false_negatives)\n",
    "                \n",
    "                if precision == 0 or recall == 0:\n",
    "                    f1_score = 0.001\n",
    "                else:\n",
    "                    f1_score = 2 / \\\n",
    "                        ((1 / precision)\\\n",
    "                         + (1 / recall))\n",
    "\n",
    "                print('   Thresholds {:.2f}:: Acc: {:.4f} | Precision: {:.4f} | Recall: {:.4f} | F1: {:.4f}'.format(\n",
    "                th_val, accuracy, precision, recall, f1_score))\n",
    "\n",
    "                if f1_score > best_f1:\n",
    "                    best_out = aux_output\n",
    "                    best_f1 = f1_score\n",
    "                    thresh = th_val\n",
    "    return thresh,best_f1,best_out\n",
    "\n",
    "def evaluate(session,questions,batch_size,predictions,x):\n",
    "    #Saving the predictions on the competition train for the our best scor so far\n",
    "    print(\"Predicting for test...\")\n",
    "    output = []\n",
    "    batches = Batch(questions_test, np.zeros(len(questions_test),), batch_size)\n",
    "    for batch in tqdm(batches):\n",
    "        batch, label =  batch\n",
    "        batch = embedding_lookup( batch )\n",
    "        label = np.array(label)\n",
    "        batch_output = session.run(predictions, {x: batch})\n",
    "        output = np.concatenate((output, batch_output), axis=0)\n",
    "    return output\n",
    "\n",
    "class Stats:\n",
    "    def __init__(self,test_data,session,thresholds,batch_size,predictions,x):\n",
    "        self.f1_train, self.f1_val = [0, 0], [0, 0]\n",
    "        self.best_result = {'output':[],'f1_score':0,'threshold':0, 'epoch':0, 'epoch_selection_score' :0}\n",
    "        self.test_data = test_data\n",
    "        self.output = []\n",
    "        self.session = session\n",
    "        self.thresholds = thresholds\n",
    "        self.batch_size = batch_size\n",
    "        self.predictions = predictions\n",
    "        self.x = x\n",
    "\n",
    "    def check(self,epoch,loss):\n",
    "        epoch_selection_score = self.f1_val[1]\n",
    "        th  = self.f1_val[0]\n",
    "        f1 = self.f1_val[1]\n",
    "        print(\"             ___________________________________\")\n",
    "        print(\"            |Epoch nr. {} recap ({:.4f}):        |\". format(epoch,loss))\n",
    "        print(\"            |Train: threshold: {:.2f} F1: {:.4f}  |\".format(self.f1_train[0],self.f1_train[1]))\n",
    "        print(\"            |Val  : threshold: {:.2f} F1: {:.4f}  |\".format(self.f1_val[0],self.f1_val[1]))\n",
    "        print(\"            |___________________________________|\")\n",
    "\n",
    "        if epoch_selection_score > self.best_result['epoch_selection_score']:\n",
    "            self.best_result['f1_score'] = f1\n",
    "            self.best_result['epoch_selection_score'] = epoch_selection_score\n",
    "            self.best_result['threshold'] = th\n",
    "            self.best_result['epoch'] = epoch\n",
    "            self.output = evaluate(self.session,self.test_data,self.batch_size,self.predictions ,self.x )\n",
    "            \n",
    "    def add_stats(self, epoch,phase,output,labels,loss): \n",
    "        print(\"The \"+ phase.upper() +\" stats :\")\n",
    "        print('   Loss: {:.4f}'.format(loss))\n",
    "        \n",
    "        th,best_epoch_f1, best_epoch_output = scores(self.thresholds,output,labels)\n",
    "\n",
    "        if phase == 'train':\n",
    "            self.f1_train[0] = th\n",
    "            self.f1_train[1] = best_epoch_f1\n",
    "            print(\"   Threshold: {:.2f} F1: {:.4f}\".format(self.f1_train[0],self.f1_train[1]))\n",
    "        elif phase == 'val':\n",
    "            self.f1_val[0] = th \n",
    "            self.f1_val[1] = best_epoch_f1 \n",
    "            print(\"   Threshold: {:.2f} F1: {:.4f}\".format(self.f1_val[0],self.f1_val[1]))\n",
    "            self.check(epoch,loss)\n",
    "\n",
    "            \n",
    "    def best_output(self):\n",
    "        print('My stats: Thresholds {}:: F1: {:.4f}, epoch: {}'.format(self.best_result['threshold'], self.best_result['f1_score'],self.best_result['epoch']))\n",
    "        print('Best scor in competition so far: 0.699')\n",
    "        return self.output,self.best_result['threshold'],self.best_result['f1_score']"
   ]
  },
  {
   "cell_type": "code",
   "execution_count": 22,
   "metadata": {},
   "outputs": [],
   "source": [
    "def split_on_class(x,y, percentage = 80, random = True):\n",
    "    \n",
    "    data_in_classes = [[],[]]\n",
    "    \n",
    "    left_split = []\n",
    "    right_split = []\n",
    "    \n",
    "    for idx,val in enumerate(y):                    #separate the data with target 0 from 1\n",
    "        data_in_classes[int(val)].append([idx,val]) #save them as (idx,val) to save memory\n",
    "    \n",
    "    for class_data in data_in_classes:          #split the classes in two and add them to the left and right split \n",
    "        total = len(class_data)\n",
    "        split = int(total*(percentage/100))\n",
    "        left_split += class_data[:split]\n",
    "        right_split += class_data[split:]\n",
    "    \n",
    "    if random:                                  #shuffle them so we lose the order of the quetions\n",
    "        np.random.shuffle(right_split)\n",
    "        np.random.shuffle(left_split)\n",
    "      \n",
    "    # make the x_train,y_train from the left_split\n",
    "    left_split = np.array(left_split)\n",
    "    y_left = left_split[:,1]\n",
    "    left_split = left_split[:,0]\n",
    "    x_left = []\n",
    "    for idx_x in left_split:\n",
    "        x_left.append(x[idx_x])\n",
    "    del left_split\n",
    "    \n",
    "    # make the x_test,y_test from the right_split\n",
    "    right_split = np.array(right_split)\n",
    "    y_right = right_split[:,1]\n",
    "    right_split = right_split[:,0]\n",
    "    x_right = []\n",
    "    for idx_x in right_split:\n",
    "        x_right.append(x[idx_x])\n",
    "    del right_split\n",
    "    \n",
    "            \n",
    "    return x_left,x_right,y_left,y_right"
   ]
  },
  {
   "cell_type": "code",
   "execution_count": 23,
   "metadata": {},
   "outputs": [
    {
     "name": "stdout",
     "output_type": "stream",
     "text": [
      "The leght of train data      : 1044897\n",
      "The leght of validation data : 261225\n",
      "There are 64648 labeled positive in the train data\n",
      "There are 16162 labeled positive in the validation data\n"
     ]
    }
   ],
   "source": [
    "#x_train, x_test, y_train, y_test  = split_on_class(questions_train,y)\n",
    "x_train, x_val, y_train, y_val  = split_on_class(questions_train, y)\n",
    "print(\"The leght of train data      :\",len(x_train))\n",
    "print(\"The leght of validation data :\",len(x_val))\n",
    "#print(\"The leght of test data       :\",len(x_test))\n",
    "print(\"There are\",sum(y_train),\"labeled positive in the train data\")\n",
    "print(\"There are\",sum(y_val),\"labeled positive in the validation data\")\n",
    "#print(\"There are\",sum(y_test),\"labeled positive in the test data\")"
   ]
  },
  {
   "cell_type": "code",
   "execution_count": 24,
   "metadata": {},
   "outputs": [],
   "source": [
    "batches = Batch(questions_train, y, 400)"
   ]
  },
  {
   "cell_type": "code",
   "execution_count": 25,
   "metadata": {},
   "outputs": [
    {
     "data": {
      "text/plain": [
       "3266"
      ]
     },
     "execution_count": 25,
     "metadata": {},
     "output_type": "execute_result"
    }
   ],
   "source": [
    "len(batches)"
   ]
  },
  {
   "cell_type": "code",
   "execution_count": 31,
   "metadata": {},
   "outputs": [],
   "source": [
    "def weights(x,drop): \n",
    "    with tf.variable_scope('lreg') as scope:\n",
    "        aux = Bidirectional(LSTM(60, return_sequences=True))(x)\n",
    "        aux = GlobalMaxPool1D()(aux)\n",
    "        aux = Dense(16, activation=\"relu\")(aux)\n",
    "        aux = tf.nn.dropout(aux, drop)\n",
    "        aux = Dense(1, activation=\"sigmoid\")(aux)\n",
    "        out = tf.reshape(aux, [-1])\n",
    "\n",
    "    return out"
   ]
  },
  {
   "cell_type": "code",
   "execution_count": 2,
   "metadata": {},
   "outputs": [],
   "source": [
    "def run():\n",
    "    global questions_test\n",
    "    global embeddigs\n",
    "    global x_train\n",
    "    global y_train\n",
    "    global x_test\n",
    "    global y_test\n",
    "    global x_val\n",
    "    global y_val\n",
    "    global questions_train\n",
    "    global y\n",
    "\n",
    "\n",
    "    batch_size = 350\n",
    "    thresholds = np.arange(0.2, 0.5, 0.02)\n",
    "    epochs = 5\n",
    "\n",
    "    x = tf.placeholder(tf.float32,shape=(None, 60, 300), name = 'x')\n",
    "    y = tf.placeholder(tf.float32,shape=(None, ),name='y')\n",
    "    drop = tf.placeholder_with_default(1.0, shape=()) #we need variable drop rate so we can stop the drop layer at evaluation\n",
    "    predictions = weights(x,drop)\n",
    "    loss = binary_crossentropy(target = y, output = predictions)\n",
    "\n",
    "    optimizer = tf.train.AdamOptimizer(learning_rate=1e-3)\n",
    "    optimizer = tf.contrib.estimator.clip_gradients_by_norm(optimizer, clip_norm=5.0)\n",
    "    optimizer = optimizer.minimize(loss)\n",
    "    \n",
    "    init_op = tf.global_variables_initializer()\n",
    "    #saver = tf.train.Saver()\n",
    "\n",
    "    with tf.Session() as session:\n",
    "        session.run(init_op)\n",
    "        stats = Stats(questions_test,session,thresholds,batch_size,predictions,x)\n",
    "        \n",
    "        for e in range(1, epochs + 1):\n",
    "            print(\"\\n\" + \"_\" * 80)\n",
    "            print(\"Epoch nr\", e, \":\")\n",
    "            \n",
    "            phases =  ['train', 'val']\n",
    "            for phase in phases:\n",
    "                average_loss = 0\n",
    "                output = np.array([])\n",
    "                labels = np.array([])\n",
    "\n",
    "                if phase == 'train':\n",
    "                    batches = Batch(x_train, y_train, batch_size)\n",
    "                elif phase == 'val':\n",
    "                    batches = Batch(x_val, y_val, batch_size)\n",
    "\n",
    "                for batch in tqdm(batches):\n",
    "                    batch, label =  batch\n",
    "                    batch = embedding_lookup( batch )\n",
    "                    label = np.array(label)\n",
    "\n",
    "                    if phase == 'train':\n",
    "                        _ ,batch_output ,batch_loss = session.run([optimizer, predictions, loss],\\\n",
    "                                                                  {x:batch, y :label, drop:0.4})\n",
    "                    else:\n",
    "                        batch_output ,batch_loss = session.run([predictions, loss], \\\n",
    "                                                                  {x:batch, y :label, drop: 1.0})\n",
    "\n",
    "                    labels = np.concatenate((labels, label), axis=0)\n",
    "                    output = np.concatenate((output, batch_output), axis=0)\n",
    "                    average_loss += np.average(batch_loss)\n",
    "                average_loss = average_loss/len(batches)\n",
    "                \n",
    "                stats.add_stats(e, phase, output, labels, average_loss)                    \n",
    "\n",
    "        return stats.best_output()"
   ]
  },
  {
   "cell_type": "code",
   "execution_count": 33,
   "metadata": {
    "scrolled": false
   },
   "outputs": [
    {
     "name": "stdout",
     "output_type": "stream",
     "text": [
      "\n",
      "________________________________________________________________________________\n",
      "Epoch nr 1 :\n"
     ]
    },
    {
     "name": "stderr",
     "output_type": "stream",
     "text": [
      "100%|██████████████████████████████████████████████████████████████| 2986/2986 [32:43<00:00,  1.79it/s]\n"
     ]
    },
    {
     "name": "stdout",
     "output_type": "stream",
     "text": [
      "The TRAIN stats :\n",
      "   Loss: 0.0561\n",
      "   Thresholds 0.20:: Acc: 0.9175 | Precision: 0.4139 | Recall: 0.8007 | F1: 0.5457\n",
      "   Thresholds 0.22:: Acc: 0.9221 | Precision: 0.4295 | Recall: 0.7873 | F1: 0.5558\n",
      "   Thresholds 0.24:: Acc: 0.9262 | Precision: 0.4445 | Recall: 0.7735 | F1: 0.5645\n",
      "   Thresholds 0.26:: Acc: 0.9297 | Precision: 0.4587 | Recall: 0.7595 | F1: 0.5720\n",
      "   Thresholds 0.28:: Acc: 0.9328 | Precision: 0.4726 | Recall: 0.7451 | F1: 0.5784\n",
      "   Thresholds 0.30:: Acc: 0.9355 | Precision: 0.4856 | Recall: 0.7286 | F1: 0.5828\n",
      "   Thresholds 0.32:: Acc: 0.9379 | Precision: 0.4987 | Recall: 0.7112 | F1: 0.5863\n",
      "   Thresholds 0.34:: Acc: 0.9401 | Precision: 0.5118 | Recall: 0.6910 | F1: 0.5880\n",
      "   Thresholds 0.36:: Acc: 0.9421 | Precision: 0.5249 | Recall: 0.6685 | F1: 0.5881\n",
      "   Thresholds 0.38:: Acc: 0.9437 | Precision: 0.5380 | Recall: 0.6419 | F1: 0.5854\n",
      "   Thresholds 0.40:: Acc: 0.9451 | Precision: 0.5515 | Recall: 0.6044 | F1: 0.5767\n",
      "   Thresholds 0.42:: Acc: 0.9435 | Precision: 0.5725 | Recall: 0.3450 | F1: 0.4306\n",
      "   Thresholds 0.44:: Acc: 0.9439 | Precision: 0.5932 | Recall: 0.2977 | F1: 0.3964\n",
      "   Thresholds 0.46:: Acc: 0.9440 | Precision: 0.6142 | Recall: 0.2558 | F1: 0.3612\n",
      "   Thresholds 0.48:: Acc: 0.9442 | Precision: 0.6395 | Recall: 0.2263 | F1: 0.3343\n",
      "   Threshold: 0.36 F1: 0.5881\n"
     ]
    },
    {
     "name": "stderr",
     "output_type": "stream",
     "text": [
      "100%|████████████████████████████████████████████████████████████████| 747/747 [04:03<00:00,  3.77it/s]\n"
     ]
    },
    {
     "name": "stdout",
     "output_type": "stream",
     "text": [
      "The VAL stats :\n",
      "   Loss: 0.0388\n",
      "   Thresholds 0.20:: Acc: 0.9414 | Precision: 0.5165 | Recall: 0.8211 | F1: 0.6341\n",
      "   Thresholds 0.22:: Acc: 0.9437 | Precision: 0.5293 | Recall: 0.8100 | F1: 0.6402\n",
      "   Thresholds 0.24:: Acc: 0.9457 | Precision: 0.5415 | Recall: 0.7982 | F1: 0.6453\n",
      "   Thresholds 0.26:: Acc: 0.9475 | Precision: 0.5531 | Recall: 0.7868 | F1: 0.6496\n",
      "   Thresholds 0.28:: Acc: 0.9491 | Precision: 0.5651 | Recall: 0.7732 | F1: 0.6529\n",
      "   Thresholds 0.30:: Acc: 0.9507 | Precision: 0.5768 | Recall: 0.7604 | F1: 0.6560\n",
      "   Thresholds 0.32:: Acc: 0.9520 | Precision: 0.5887 | Recall: 0.7459 | F1: 0.6580\n",
      "   Thresholds 0.34:: Acc: 0.9532 | Precision: 0.5997 | Recall: 0.7307 | F1: 0.6587\n",
      "   Thresholds 0.36:: Acc: 0.9543 | Precision: 0.6122 | Recall: 0.7132 | F1: 0.6589\n",
      "   Thresholds 0.38:: Acc: 0.9554 | Precision: 0.6265 | Recall: 0.6925 | F1: 0.6578\n",
      "   Thresholds 0.40:: Acc: 0.9567 | Precision: 0.6442 | Recall: 0.6689 | F1: 0.6563\n",
      "   Thresholds 0.42:: Acc: 0.9577 | Precision: 0.6644 | Recall: 0.6390 | F1: 0.6514\n",
      "   Thresholds 0.44:: Acc: 0.9582 | Precision: 0.6849 | Recall: 0.6003 | F1: 0.6398\n",
      "   Thresholds 0.46:: Acc: 0.9580 | Precision: 0.7069 | Recall: 0.5477 | F1: 0.6172\n",
      "   Thresholds 0.48:: Acc: 0.9572 | Precision: 0.7291 | Recall: 0.4894 | F1: 0.5856\n",
      "   Threshold: 0.36 F1: 0.6589\n",
      "             ___________________________________\n",
      "            |Epoch nr. 1 recap (0.6589):        |\n",
      "            |Train: threshold: 0.36 F1: 0.5881  |\n",
      "            |Val  : threshold: 0.36 F1: 0.6589  |\n",
      "            |___________________________________|\n",
      "Predicting for test...\n"
     ]
    },
    {
     "name": "stderr",
     "output_type": "stream",
     "text": [
      "100%|████████████████████████████████████████████████████████████████| 162/162 [00:49<00:00,  3.30it/s]\n"
     ]
    },
    {
     "name": "stdout",
     "output_type": "stream",
     "text": [
      "\n",
      "________________________________________________________________________________\n",
      "Epoch nr 2 :\n"
     ]
    },
    {
     "name": "stderr",
     "output_type": "stream",
     "text": [
      "100%|██████████████████████████████████████████████████████████████| 2986/2986 [34:11<00:00,  1.77it/s]\n"
     ]
    },
    {
     "name": "stdout",
     "output_type": "stream",
     "text": [
      "The TRAIN stats :\n",
      "   Loss: 0.0505\n",
      "   Thresholds 0.20:: Acc: 0.9294 | Precision: 0.4609 | Recall: 0.8358 | F1: 0.5942\n",
      "   Thresholds 0.22:: Acc: 0.9330 | Precision: 0.4762 | Recall: 0.8259 | F1: 0.6041\n",
      "   Thresholds 0.24:: Acc: 0.9361 | Precision: 0.4901 | Recall: 0.8150 | F1: 0.6121\n",
      "   Thresholds 0.26:: Acc: 0.9388 | Precision: 0.5034 | Recall: 0.8033 | F1: 0.6189\n",
      "   Thresholds 0.28:: Acc: 0.9412 | Precision: 0.5161 | Recall: 0.7914 | F1: 0.6248\n",
      "   Thresholds 0.30:: Acc: 0.9433 | Precision: 0.5286 | Recall: 0.7786 | F1: 0.6297\n",
      "   Thresholds 0.32:: Acc: 0.9452 | Precision: 0.5404 | Recall: 0.7648 | F1: 0.6333\n",
      "   Thresholds 0.34:: Acc: 0.9469 | Precision: 0.5522 | Recall: 0.7487 | F1: 0.6356\n",
      "   Thresholds 0.36:: Acc: 0.9483 | Precision: 0.5635 | Recall: 0.7310 | F1: 0.6364\n",
      "   Thresholds 0.38:: Acc: 0.9496 | Precision: 0.5749 | Recall: 0.7114 | F1: 0.6359\n",
      "   Thresholds 0.40:: Acc: 0.9508 | Precision: 0.5878 | Recall: 0.6873 | F1: 0.6337\n",
      "   Thresholds 0.42:: Acc: 0.9504 | Precision: 0.6029 | Recall: 0.5824 | F1: 0.5925\n",
      "   Thresholds 0.44:: Acc: 0.9460 | Precision: 0.6645 | Recall: 0.2567 | F1: 0.3703\n",
      "   Thresholds 0.46:: Acc: 0.9461 | Precision: 0.6746 | Recall: 0.2487 | F1: 0.3634\n",
      "   Thresholds 0.48:: Acc: 0.9462 | Precision: 0.6856 | Recall: 0.2413 | F1: 0.3570\n",
      "   Threshold: 0.36 F1: 0.6364\n"
     ]
    },
    {
     "name": "stderr",
     "output_type": "stream",
     "text": [
      "100%|████████████████████████████████████████████████████████████████| 747/747 [04:11<00:00,  3.69it/s]\n"
     ]
    },
    {
     "name": "stdout",
     "output_type": "stream",
     "text": [
      "The VAL stats :\n",
      "   Loss: 0.0379\n",
      "   Thresholds 0.20:: Acc: 0.9440 | Precision: 0.5307 | Recall: 0.8264 | F1: 0.6463\n",
      "   Thresholds 0.22:: Acc: 0.9458 | Precision: 0.5413 | Recall: 0.8156 | F1: 0.6507\n",
      "   Thresholds 0.24:: Acc: 0.9477 | Precision: 0.5528 | Recall: 0.8070 | F1: 0.6562\n",
      "   Thresholds 0.26:: Acc: 0.9490 | Precision: 0.5617 | Recall: 0.7961 | F1: 0.6587\n",
      "   Thresholds 0.28:: Acc: 0.9504 | Precision: 0.5724 | Recall: 0.7861 | F1: 0.6624\n",
      "   Thresholds 0.30:: Acc: 0.9518 | Precision: 0.5831 | Recall: 0.7747 | F1: 0.6654\n",
      "   Thresholds 0.32:: Acc: 0.9530 | Precision: 0.5936 | Recall: 0.7615 | F1: 0.6672\n",
      "   Thresholds 0.34:: Acc: 0.9542 | Precision: 0.6045 | Recall: 0.7500 | F1: 0.6694\n",
      "   Thresholds 0.36:: Acc: 0.9553 | Precision: 0.6157 | Recall: 0.7378 | F1: 0.6712\n",
      "   Thresholds 0.38:: Acc: 0.9563 | Precision: 0.6278 | Recall: 0.7226 | F1: 0.6719\n",
      "   Thresholds 0.40:: Acc: 0.9571 | Precision: 0.6394 | Recall: 0.7042 | F1: 0.6703\n",
      "   Thresholds 0.42:: Acc: 0.9579 | Precision: 0.6518 | Recall: 0.6870 | F1: 0.6689\n",
      "   Thresholds 0.44:: Acc: 0.9587 | Precision: 0.6666 | Recall: 0.6635 | F1: 0.6651\n",
      "   Thresholds 0.46:: Acc: 0.9593 | Precision: 0.6835 | Recall: 0.6374 | F1: 0.6596\n",
      "   Thresholds 0.48:: Acc: 0.9595 | Precision: 0.7009 | Recall: 0.6025 | F1: 0.6480\n",
      "   Threshold: 0.38 F1: 0.6719\n",
      "             ___________________________________\n",
      "            |Epoch nr. 2 recap (0.6719):        |\n",
      "            |Train: threshold: 0.36 F1: 0.6364  |\n",
      "            |Val  : threshold: 0.38 F1: 0.6719  |\n",
      "            |___________________________________|\n",
      "Predicting for test...\n"
     ]
    },
    {
     "name": "stderr",
     "output_type": "stream",
     "text": [
      "100%|████████████████████████████████████████████████████████████████| 162/162 [00:54<00:00,  3.00it/s]\n"
     ]
    },
    {
     "name": "stdout",
     "output_type": "stream",
     "text": [
      "\n",
      "________________________________________________________________________________\n",
      "Epoch nr 3 :\n"
     ]
    },
    {
     "name": "stderr",
     "output_type": "stream",
     "text": [
      "100%|██████████████████████████████████████████████████████████████| 2986/2986 [33:48<00:00,  1.76it/s]\n"
     ]
    },
    {
     "name": "stdout",
     "output_type": "stream",
     "text": [
      "The TRAIN stats :\n",
      "   Loss: 0.0480\n",
      "   Thresholds 0.20:: Acc: 0.9329 | Precision: 0.4764 | Recall: 0.8532 | F1: 0.6114\n",
      "   Thresholds 0.22:: Acc: 0.9362 | Precision: 0.4908 | Recall: 0.8447 | F1: 0.6209\n",
      "   Thresholds 0.24:: Acc: 0.9389 | Precision: 0.5036 | Recall: 0.8353 | F1: 0.6284\n",
      "   Thresholds 0.26:: Acc: 0.9412 | Precision: 0.5156 | Recall: 0.8258 | F1: 0.6349\n",
      "   Thresholds 0.28:: Acc: 0.9432 | Precision: 0.5267 | Recall: 0.8149 | F1: 0.6398\n",
      "   Thresholds 0.30:: Acc: 0.9451 | Precision: 0.5377 | Recall: 0.8042 | F1: 0.6445\n",
      "   Thresholds 0.32:: Acc: 0.9468 | Precision: 0.5482 | Recall: 0.7932 | F1: 0.6483\n",
      "   Thresholds 0.34:: Acc: 0.9482 | Precision: 0.5582 | Recall: 0.7799 | F1: 0.6507\n",
      "   Thresholds 0.36:: Acc: 0.9495 | Precision: 0.5681 | Recall: 0.7656 | F1: 0.6522\n",
      "   Thresholds 0.38:: Acc: 0.9507 | Precision: 0.5780 | Recall: 0.7501 | F1: 0.6529\n",
      "   Thresholds 0.40:: Acc: 0.9517 | Precision: 0.5881 | Recall: 0.7313 | F1: 0.6520\n",
      "   Thresholds 0.42:: Acc: 0.9527 | Precision: 0.5994 | Recall: 0.7104 | F1: 0.6502\n",
      "   Thresholds 0.44:: Acc: 0.9528 | Precision: 0.6119 | Recall: 0.6491 | F1: 0.6299\n",
      "   Thresholds 0.46:: Acc: 0.9469 | Precision: 0.6846 | Recall: 0.2638 | F1: 0.3809\n",
      "   Thresholds 0.48:: Acc: 0.9470 | Precision: 0.6949 | Recall: 0.2559 | F1: 0.3741\n",
      "   Threshold: 0.38 F1: 0.6529\n"
     ]
    },
    {
     "name": "stderr",
     "output_type": "stream",
     "text": [
      "100%|████████████████████████████████████████████████████████████████| 747/747 [04:04<00:00,  3.70it/s]\n"
     ]
    },
    {
     "name": "stdout",
     "output_type": "stream",
     "text": [
      "The VAL stats :\n",
      "   Loss: 0.0388\n",
      "   Thresholds 0.20:: Acc: 0.9491 | Precision: 0.5626 | Recall: 0.8000 | F1: 0.6606\n",
      "   Thresholds 0.22:: Acc: 0.9506 | Precision: 0.5729 | Recall: 0.7915 | F1: 0.6647\n",
      "   Thresholds 0.24:: Acc: 0.9518 | Precision: 0.5822 | Recall: 0.7821 | F1: 0.6675\n",
      "   Thresholds 0.26:: Acc: 0.9530 | Precision: 0.5920 | Recall: 0.7734 | F1: 0.6707\n",
      "   Thresholds 0.28:: Acc: 0.9540 | Precision: 0.6008 | Recall: 0.7636 | F1: 0.6725\n",
      "   Thresholds 0.30:: Acc: 0.9549 | Precision: 0.6098 | Recall: 0.7533 | F1: 0.6740\n",
      "   Thresholds 0.32:: Acc: 0.9556 | Precision: 0.6173 | Recall: 0.7425 | F1: 0.6741\n",
      "   Thresholds 0.34:: Acc: 0.9564 | Precision: 0.6263 | Recall: 0.7320 | F1: 0.6751\n",
      "   Thresholds 0.36:: Acc: 0.9570 | Precision: 0.6346 | Recall: 0.7204 | F1: 0.6748\n",
      "   Thresholds 0.38:: Acc: 0.9578 | Precision: 0.6446 | Recall: 0.7078 | F1: 0.6747\n",
      "   Thresholds 0.40:: Acc: 0.9582 | Precision: 0.6526 | Recall: 0.6936 | F1: 0.6725\n",
      "   Thresholds 0.42:: Acc: 0.9589 | Precision: 0.6642 | Recall: 0.6789 | F1: 0.6715\n",
      "   Thresholds 0.44:: Acc: 0.9594 | Precision: 0.6770 | Recall: 0.6584 | F1: 0.6676\n",
      "   Thresholds 0.46:: Acc: 0.9598 | Precision: 0.6946 | Recall: 0.6247 | F1: 0.6578\n",
      "   Thresholds 0.48:: Acc: 0.9597 | Precision: 0.7095 | Recall: 0.5909 | F1: 0.6448\n",
      "   Threshold: 0.34 F1: 0.6751\n",
      "             ___________________________________\n",
      "            |Epoch nr. 3 recap (0.6751):        |\n",
      "            |Train: threshold: 0.38 F1: 0.6529  |\n",
      "            |Val  : threshold: 0.34 F1: 0.6751  |\n",
      "            |___________________________________|\n",
      "Predicting for test...\n"
     ]
    },
    {
     "name": "stderr",
     "output_type": "stream",
     "text": [
      "100%|████████████████████████████████████████████████████████████████| 162/162 [00:49<00:00,  3.25it/s]\n"
     ]
    },
    {
     "name": "stdout",
     "output_type": "stream",
     "text": [
      "\n",
      "________________________________________________________________________________\n",
      "Epoch nr 4 :\n"
     ]
    },
    {
     "name": "stderr",
     "output_type": "stream",
     "text": [
      "100%|██████████████████████████████████████████████████████████████| 2986/2986 [34:03<00:00,  1.77it/s]\n"
     ]
    },
    {
     "name": "stdout",
     "output_type": "stream",
     "text": [
      "The TRAIN stats :\n",
      "   Loss: 0.0459\n",
      "   Thresholds 0.20:: Acc: 0.9365 | Precision: 0.4924 | Recall: 0.8654 | F1: 0.6277\n",
      "   Thresholds 0.22:: Acc: 0.9394 | Precision: 0.5060 | Recall: 0.8573 | F1: 0.6364\n",
      "   Thresholds 0.24:: Acc: 0.9419 | Precision: 0.5187 | Recall: 0.8488 | F1: 0.6439\n",
      "   Thresholds 0.26:: Acc: 0.9441 | Precision: 0.5303 | Recall: 0.8405 | F1: 0.6503\n",
      "   Thresholds 0.28:: Acc: 0.9459 | Precision: 0.5410 | Recall: 0.8313 | F1: 0.6555\n",
      "   Thresholds 0.30:: Acc: 0.9475 | Precision: 0.5508 | Recall: 0.8219 | F1: 0.6596\n",
      "   Thresholds 0.32:: Acc: 0.9489 | Precision: 0.5603 | Recall: 0.8125 | F1: 0.6632\n",
      "   Thresholds 0.34:: Acc: 0.9502 | Precision: 0.5693 | Recall: 0.8022 | F1: 0.6660\n",
      "   Thresholds 0.36:: Acc: 0.9514 | Precision: 0.5782 | Recall: 0.7908 | F1: 0.6680\n",
      "   Thresholds 0.38:: Acc: 0.9523 | Precision: 0.5865 | Recall: 0.7777 | F1: 0.6687\n",
      "   Thresholds 0.40:: Acc: 0.9532 | Precision: 0.5951 | Recall: 0.7625 | F1: 0.6685\n",
      "   Thresholds 0.42:: Acc: 0.9541 | Precision: 0.6046 | Recall: 0.7454 | F1: 0.6677\n",
      "   Thresholds 0.44:: Acc: 0.9548 | Precision: 0.6139 | Recall: 0.7250 | F1: 0.6648\n",
      "   Thresholds 0.46:: Acc: 0.9551 | Precision: 0.6233 | Recall: 0.6953 | F1: 0.6573\n",
      "   Thresholds 0.48:: Acc: 0.9484 | Precision: 0.6844 | Recall: 0.3069 | F1: 0.4237\n",
      "   Threshold: 0.38 F1: 0.6687\n"
     ]
    },
    {
     "name": "stderr",
     "output_type": "stream",
     "text": [
      "100%|████████████████████████████████████████████████████████████████| 747/747 [04:02<00:00,  3.88it/s]\n"
     ]
    },
    {
     "name": "stdout",
     "output_type": "stream",
     "text": [
      "The VAL stats :\n",
      "   Loss: 0.0388\n",
      "   Thresholds 0.20:: Acc: 0.9489 | Precision: 0.5610 | Recall: 0.8043 | F1: 0.6609\n",
      "   Thresholds 0.22:: Acc: 0.9503 | Precision: 0.5703 | Recall: 0.7958 | F1: 0.6644\n",
      "   Thresholds 0.24:: Acc: 0.9514 | Precision: 0.5786 | Recall: 0.7880 | F1: 0.6672\n",
      "   Thresholds 0.26:: Acc: 0.9523 | Precision: 0.5861 | Recall: 0.7798 | F1: 0.6692\n",
      "   Thresholds 0.28:: Acc: 0.9532 | Precision: 0.5936 | Recall: 0.7725 | F1: 0.6713\n",
      "   Thresholds 0.30:: Acc: 0.9540 | Precision: 0.6007 | Recall: 0.7647 | F1: 0.6729\n",
      "   Thresholds 0.32:: Acc: 0.9548 | Precision: 0.6080 | Recall: 0.7560 | F1: 0.6740\n",
      "   Thresholds 0.34:: Acc: 0.9555 | Precision: 0.6153 | Recall: 0.7474 | F1: 0.6750\n",
      "   Thresholds 0.36:: Acc: 0.9563 | Precision: 0.6237 | Recall: 0.7386 | F1: 0.6763\n",
      "   Thresholds 0.38:: Acc: 0.9569 | Precision: 0.6314 | Recall: 0.7297 | F1: 0.6770\n",
      "   Thresholds 0.40:: Acc: 0.9574 | Precision: 0.6383 | Recall: 0.7195 | F1: 0.6764\n",
      "   Thresholds 0.42:: Acc: 0.9580 | Precision: 0.6460 | Recall: 0.7091 | F1: 0.6760\n",
      "   Thresholds 0.44:: Acc: 0.9585 | Precision: 0.6550 | Recall: 0.6969 | F1: 0.6753\n",
      "   Thresholds 0.46:: Acc: 0.9591 | Precision: 0.6648 | Recall: 0.6825 | F1: 0.6735\n",
      "   Thresholds 0.48:: Acc: 0.9598 | Precision: 0.6789 | Recall: 0.6643 | F1: 0.6715\n",
      "   Threshold: 0.38 F1: 0.6770\n",
      "             ___________________________________\n",
      "            |Epoch nr. 4 recap (0.6770):        |\n",
      "            |Train: threshold: 0.38 F1: 0.6687  |\n",
      "            |Val  : threshold: 0.38 F1: 0.6770  |\n",
      "            |___________________________________|\n",
      "Predicting for test...\n"
     ]
    },
    {
     "name": "stderr",
     "output_type": "stream",
     "text": [
      "100%|████████████████████████████████████████████████████████████████| 162/162 [00:52<00:00,  3.11it/s]\n"
     ]
    },
    {
     "name": "stdout",
     "output_type": "stream",
     "text": [
      "\n",
      "________________________________________________________________________________\n",
      "Epoch nr 5 :\n"
     ]
    },
    {
     "name": "stderr",
     "output_type": "stream",
     "text": [
      "100%|██████████████████████████████████████████████████████████████| 2986/2986 [33:39<00:00,  1.65it/s]\n"
     ]
    },
    {
     "name": "stdout",
     "output_type": "stream",
     "text": [
      "The TRAIN stats :\n",
      "   Loss: 0.0438\n",
      "   Thresholds 0.20:: Acc: 0.9399 | Precision: 0.5082 | Recall: 0.8776 | F1: 0.6436\n",
      "   Thresholds 0.22:: Acc: 0.9424 | Precision: 0.5206 | Recall: 0.8709 | F1: 0.6517\n",
      "   Thresholds 0.24:: Acc: 0.9446 | Precision: 0.5321 | Recall: 0.8632 | F1: 0.6584\n",
      "   Thresholds 0.26:: Acc: 0.9465 | Precision: 0.5431 | Recall: 0.8562 | F1: 0.6646\n",
      "   Thresholds 0.28:: Acc: 0.9481 | Precision: 0.5525 | Recall: 0.8480 | F1: 0.6691\n",
      "   Thresholds 0.30:: Acc: 0.9496 | Precision: 0.5618 | Recall: 0.8398 | F1: 0.6732\n",
      "   Thresholds 0.32:: Acc: 0.9509 | Precision: 0.5707 | Recall: 0.8309 | F1: 0.6767\n",
      "   Thresholds 0.34:: Acc: 0.9520 | Precision: 0.5787 | Recall: 0.8218 | F1: 0.6792\n",
      "   Thresholds 0.36:: Acc: 0.9530 | Precision: 0.5869 | Recall: 0.8122 | F1: 0.6814\n",
      "   Thresholds 0.38:: Acc: 0.9539 | Precision: 0.5943 | Recall: 0.8013 | F1: 0.6825\n",
      "   Thresholds 0.40:: Acc: 0.9546 | Precision: 0.6018 | Recall: 0.7892 | F1: 0.6829\n",
      "   Thresholds 0.42:: Acc: 0.9553 | Precision: 0.6089 | Recall: 0.7754 | F1: 0.6822\n",
      "   Thresholds 0.44:: Acc: 0.9559 | Precision: 0.6163 | Recall: 0.7595 | F1: 0.6805\n",
      "   Thresholds 0.46:: Acc: 0.9564 | Precision: 0.6242 | Recall: 0.7407 | F1: 0.6775\n",
      "   Thresholds 0.48:: Acc: 0.9566 | Precision: 0.6313 | Recall: 0.7173 | F1: 0.6716\n",
      "   Threshold: 0.40 F1: 0.6829\n"
     ]
    },
    {
     "name": "stderr",
     "output_type": "stream",
     "text": [
      "100%|████████████████████████████████████████████████████████████████| 747/747 [04:23<00:00,  3.51it/s]\n"
     ]
    },
    {
     "name": "stdout",
     "output_type": "stream",
     "text": [
      "The VAL stats :\n",
      "   Loss: 0.0397\n",
      "   Thresholds 0.20:: Acc: 0.9438 | Precision: 0.5295 | Recall: 0.8272 | F1: 0.6457\n",
      "   Thresholds 0.22:: Acc: 0.9452 | Precision: 0.5375 | Recall: 0.8202 | F1: 0.6494\n",
      "   Thresholds 0.24:: Acc: 0.9465 | Precision: 0.5455 | Recall: 0.8135 | F1: 0.6531\n",
      "   Thresholds 0.26:: Acc: 0.9476 | Precision: 0.5522 | Recall: 0.8071 | F1: 0.6558\n",
      "   Thresholds 0.28:: Acc: 0.9487 | Precision: 0.5594 | Recall: 0.8017 | F1: 0.6590\n",
      "   Thresholds 0.30:: Acc: 0.9497 | Precision: 0.5668 | Recall: 0.7957 | F1: 0.6620\n",
      "   Thresholds 0.32:: Acc: 0.9507 | Precision: 0.5735 | Recall: 0.7894 | F1: 0.6644\n",
      "   Thresholds 0.34:: Acc: 0.9517 | Precision: 0.5815 | Recall: 0.7829 | F1: 0.6673\n",
      "   Thresholds 0.36:: Acc: 0.9525 | Precision: 0.5881 | Recall: 0.7765 | F1: 0.6693\n",
      "   Thresholds 0.38:: Acc: 0.9533 | Precision: 0.5949 | Recall: 0.7685 | F1: 0.6707\n",
      "   Thresholds 0.40:: Acc: 0.9541 | Precision: 0.6025 | Recall: 0.7598 | F1: 0.6721\n",
      "   Thresholds 0.42:: Acc: 0.9550 | Precision: 0.6111 | Recall: 0.7505 | F1: 0.6736\n",
      "   Thresholds 0.44:: Acc: 0.9556 | Precision: 0.6181 | Recall: 0.7391 | F1: 0.6732\n",
      "   Thresholds 0.46:: Acc: 0.9564 | Precision: 0.6278 | Recall: 0.7271 | F1: 0.6738\n",
      "   Thresholds 0.48:: Acc: 0.9574 | Precision: 0.6400 | Recall: 0.7127 | F1: 0.6744\n",
      "   Threshold: 0.48 F1: 0.6744\n",
      "             ___________________________________\n",
      "            |Epoch nr. 5 recap (0.6744):        |\n",
      "            |Train: threshold: 0.40 F1: 0.6829  |\n",
      "            |Val  : threshold: 0.48 F1: 0.6744  |\n",
      "            |___________________________________|\n",
      "\n",
      "________________________________________________________________________________\n",
      "Epoch nr 6 :\n"
     ]
    },
    {
     "name": "stderr",
     "output_type": "stream",
     "text": [
      "100%|██████████████████████████████████████████████████████████████| 2986/2986 [31:25<00:00,  1.95it/s]\n"
     ]
    },
    {
     "name": "stdout",
     "output_type": "stream",
     "text": [
      "The TRAIN stats :\n",
      "   Loss: 0.0418\n",
      "   Thresholds 0.20:: Acc: 0.9430 | Precision: 0.5229 | Recall: 0.8909 | F1: 0.6590\n",
      "   Thresholds 0.22:: Acc: 0.9452 | Precision: 0.5345 | Recall: 0.8841 | F1: 0.6662\n",
      "   Thresholds 0.24:: Acc: 0.9472 | Precision: 0.5453 | Recall: 0.8775 | F1: 0.6727\n",
      "   Thresholds 0.26:: Acc: 0.9488 | Precision: 0.5550 | Recall: 0.8711 | F1: 0.6780\n",
      "   Thresholds 0.28:: Acc: 0.9503 | Precision: 0.5643 | Recall: 0.8641 | F1: 0.6827\n",
      "   Thresholds 0.30:: Acc: 0.9516 | Precision: 0.5728 | Recall: 0.8573 | F1: 0.6868\n",
      "   Thresholds 0.32:: Acc: 0.9527 | Precision: 0.5806 | Recall: 0.8493 | F1: 0.6897\n",
      "   Thresholds 0.34:: Acc: 0.9537 | Precision: 0.5882 | Recall: 0.8413 | F1: 0.6924\n",
      "   Thresholds 0.36:: Acc: 0.9546 | Precision: 0.5954 | Recall: 0.8327 | F1: 0.6944\n",
      "   Thresholds 0.38:: Acc: 0.9554 | Precision: 0.6019 | Recall: 0.8231 | F1: 0.6953\n",
      "   Thresholds 0.40:: Acc: 0.9561 | Precision: 0.6084 | Recall: 0.8131 | F1: 0.6960\n",
      "   Thresholds 0.42:: Acc: 0.9567 | Precision: 0.6153 | Recall: 0.8022 | F1: 0.6964\n",
      "   Thresholds 0.44:: Acc: 0.9572 | Precision: 0.6213 | Recall: 0.7896 | F1: 0.6954\n",
      "   Thresholds 0.46:: Acc: 0.9575 | Precision: 0.6272 | Recall: 0.7738 | F1: 0.6928\n",
      "   Thresholds 0.48:: Acc: 0.9578 | Precision: 0.6331 | Recall: 0.7558 | F1: 0.6891\n",
      "   Threshold: 0.42 F1: 0.6964\n"
     ]
    },
    {
     "name": "stderr",
     "output_type": "stream",
     "text": [
      "100%|████████████████████████████████████████████████████████████████| 747/747 [03:42<00:00,  4.07it/s]\n"
     ]
    },
    {
     "name": "stdout",
     "output_type": "stream",
     "text": [
      "The VAL stats :\n",
      "   Loss: 0.0432\n",
      "   Thresholds 0.20:: Acc: 0.9513 | Precision: 0.5790 | Recall: 0.7794 | F1: 0.6645\n",
      "   Thresholds 0.22:: Acc: 0.9521 | Precision: 0.5856 | Recall: 0.7718 | F1: 0.6659\n",
      "   Thresholds 0.24:: Acc: 0.9529 | Precision: 0.5928 | Recall: 0.7646 | F1: 0.6678\n",
      "   Thresholds 0.26:: Acc: 0.9538 | Precision: 0.6003 | Recall: 0.7588 | F1: 0.6703\n",
      "   Thresholds 0.28:: Acc: 0.9542 | Precision: 0.6049 | Recall: 0.7510 | F1: 0.6701\n",
      "   Thresholds 0.30:: Acc: 0.9549 | Precision: 0.6113 | Recall: 0.7446 | F1: 0.6714\n",
      "   Thresholds 0.32:: Acc: 0.9554 | Precision: 0.6168 | Recall: 0.7369 | F1: 0.6715\n",
      "   Thresholds 0.34:: Acc: 0.9559 | Precision: 0.6220 | Recall: 0.7305 | F1: 0.6719\n",
      "   Thresholds 0.36:: Acc: 0.9564 | Precision: 0.6283 | Recall: 0.7237 | F1: 0.6726\n",
      "   Thresholds 0.38:: Acc: 0.9569 | Precision: 0.6342 | Recall: 0.7171 | F1: 0.6731\n",
      "   Thresholds 0.40:: Acc: 0.9574 | Precision: 0.6406 | Recall: 0.7101 | F1: 0.6736\n",
      "   Thresholds 0.42:: Acc: 0.9578 | Precision: 0.6464 | Recall: 0.7037 | F1: 0.6738\n",
      "   Thresholds 0.44:: Acc: 0.9582 | Precision: 0.6518 | Recall: 0.6950 | F1: 0.6727\n",
      "   Thresholds 0.46:: Acc: 0.9584 | Precision: 0.6574 | Recall: 0.6849 | F1: 0.6709\n",
      "   Thresholds 0.48:: Acc: 0.9588 | Precision: 0.6647 | Recall: 0.6741 | F1: 0.6694\n",
      "   Threshold: 0.42 F1: 0.6738\n",
      "             ___________________________________\n",
      "            |Epoch nr. 6 recap (0.6738):        |\n",
      "            |Train: threshold: 0.42 F1: 0.6964  |\n",
      "            |Val  : threshold: 0.42 F1: 0.6738  |\n",
      "            |___________________________________|\n",
      "\n",
      "________________________________________________________________________________\n",
      "Epoch nr 7 :\n"
     ]
    },
    {
     "name": "stderr",
     "output_type": "stream",
     "text": [
      "100%|██████████████████████████████████████████████████████████████| 2986/2986 [29:55<00:00,  2.02it/s]\n"
     ]
    },
    {
     "name": "stdout",
     "output_type": "stream",
     "text": [
      "The TRAIN stats :\n",
      "   Loss: 0.0399\n",
      "   Thresholds 0.20:: Acc: 0.9462 | Precision: 0.5392 | Recall: 0.9016 | F1: 0.6749\n",
      "   Thresholds 0.22:: Acc: 0.9482 | Precision: 0.5502 | Recall: 0.8958 | F1: 0.6817\n",
      "   Thresholds 0.24:: Acc: 0.9499 | Precision: 0.5601 | Recall: 0.8904 | F1: 0.6876\n",
      "   Thresholds 0.26:: Acc: 0.9515 | Precision: 0.5696 | Recall: 0.8844 | F1: 0.6929\n",
      "   Thresholds 0.28:: Acc: 0.9528 | Precision: 0.5780 | Recall: 0.8776 | F1: 0.6970\n",
      "   Thresholds 0.30:: Acc: 0.9539 | Precision: 0.5859 | Recall: 0.8705 | F1: 0.7004\n",
      "   Thresholds 0.32:: Acc: 0.9549 | Precision: 0.5929 | Recall: 0.8634 | F1: 0.7030\n",
      "   Thresholds 0.34:: Acc: 0.9557 | Precision: 0.5996 | Recall: 0.8565 | F1: 0.7054\n",
      "   Thresholds 0.36:: Acc: 0.9565 | Precision: 0.6061 | Recall: 0.8494 | F1: 0.7074\n",
      "   Thresholds 0.38:: Acc: 0.9572 | Precision: 0.6118 | Recall: 0.8416 | F1: 0.7085\n",
      "   Thresholds 0.40:: Acc: 0.9577 | Precision: 0.6170 | Recall: 0.8320 | F1: 0.7085\n",
      "   Thresholds 0.42:: Acc: 0.9581 | Precision: 0.6224 | Recall: 0.8220 | F1: 0.7084\n",
      "   Thresholds 0.44:: Acc: 0.9586 | Precision: 0.6280 | Recall: 0.8116 | F1: 0.7081\n",
      "   Thresholds 0.46:: Acc: 0.9589 | Precision: 0.6327 | Recall: 0.7988 | F1: 0.7061\n",
      "   Thresholds 0.48:: Acc: 0.9591 | Precision: 0.6379 | Recall: 0.7843 | F1: 0.7036\n",
      "   Threshold: 0.38 F1: 0.7085\n"
     ]
    },
    {
     "name": "stderr",
     "output_type": "stream",
     "text": [
      "100%|████████████████████████████████████████████████████████████████| 747/747 [03:40<00:00,  4.17it/s]\n"
     ]
    },
    {
     "name": "stdout",
     "output_type": "stream",
     "text": [
      "The VAL stats :\n",
      "   Loss: 0.0443\n",
      "   Thresholds 0.20:: Acc: 0.9497 | Precision: 0.5680 | Recall: 0.7825 | F1: 0.6582\n",
      "   Thresholds 0.22:: Acc: 0.9506 | Precision: 0.5745 | Recall: 0.7758 | F1: 0.6601\n",
      "   Thresholds 0.24:: Acc: 0.9515 | Precision: 0.5815 | Recall: 0.7689 | F1: 0.6622\n",
      "   Thresholds 0.26:: Acc: 0.9522 | Precision: 0.5874 | Recall: 0.7628 | F1: 0.6637\n",
      "   Thresholds 0.28:: Acc: 0.9529 | Precision: 0.5934 | Recall: 0.7570 | F1: 0.6653\n",
      "   Thresholds 0.30:: Acc: 0.9534 | Precision: 0.5986 | Recall: 0.7509 | F1: 0.6662\n",
      "   Thresholds 0.32:: Acc: 0.9540 | Precision: 0.6044 | Recall: 0.7436 | F1: 0.6668\n",
      "   Thresholds 0.34:: Acc: 0.9546 | Precision: 0.6096 | Recall: 0.7382 | F1: 0.6678\n",
      "   Thresholds 0.36:: Acc: 0.9550 | Precision: 0.6146 | Recall: 0.7312 | F1: 0.6679\n",
      "   Thresholds 0.38:: Acc: 0.9556 | Precision: 0.6207 | Recall: 0.7245 | F1: 0.6686\n",
      "   Thresholds 0.40:: Acc: 0.9560 | Precision: 0.6262 | Recall: 0.7172 | F1: 0.6686\n",
      "   Thresholds 0.42:: Acc: 0.9563 | Precision: 0.6307 | Recall: 0.7091 | F1: 0.6676\n",
      "   Thresholds 0.44:: Acc: 0.9569 | Precision: 0.6378 | Recall: 0.7015 | F1: 0.6681\n",
      "   Thresholds 0.46:: Acc: 0.9573 | Precision: 0.6442 | Recall: 0.6916 | F1: 0.6671\n",
      "   Thresholds 0.48:: Acc: 0.9579 | Precision: 0.6529 | Recall: 0.6821 | F1: 0.6672\n",
      "   Threshold: 0.40 F1: 0.6686\n",
      "             ___________________________________\n",
      "            |Epoch nr. 7 recap (0.6686):        |\n",
      "            |Train: threshold: 0.38 F1: 0.7085  |\n",
      "            |Val  : threshold: 0.40 F1: 0.6686  |\n",
      "            |___________________________________|\n",
      "My stats: Thresholds 0.3799999999999999:: F1: 0.6770, epoch: 4\n",
      "Best scor in competition so far: 0.699\n",
      "\n",
      "________________________________________________________________________________\n",
      "Epoch nr 1 :\n"
     ]
    },
    {
     "name": "stderr",
     "output_type": "stream",
     "text": [
      "100%|██████████████████████████████████████████████████████████████| 2986/2986 [30:45<00:00,  1.93it/s]\n"
     ]
    },
    {
     "name": "stdout",
     "output_type": "stream",
     "text": [
      "The TRAIN stats :\n",
      "   Loss: 0.0547\n",
      "   Thresholds 0.20:: Acc: 0.9216 | Precision: 0.4280 | Recall: 0.7923 | F1: 0.5558\n",
      "   Thresholds 0.22:: Acc: 0.9263 | Precision: 0.4455 | Recall: 0.7782 | F1: 0.5666\n",
      "   Thresholds 0.24:: Acc: 0.9303 | Precision: 0.4618 | Recall: 0.7634 | F1: 0.5755\n",
      "   Thresholds 0.26:: Acc: 0.9338 | Precision: 0.4776 | Recall: 0.7481 | F1: 0.5830\n",
      "   Thresholds 0.28:: Acc: 0.9367 | Precision: 0.4925 | Recall: 0.7319 | F1: 0.5888\n",
      "   Thresholds 0.30:: Acc: 0.9394 | Precision: 0.5073 | Recall: 0.7142 | F1: 0.5932\n",
      "   Thresholds 0.32:: Acc: 0.9418 | Precision: 0.5220 | Recall: 0.6964 | F1: 0.5967\n",
      "   Thresholds 0.34:: Acc: 0.9439 | Precision: 0.5368 | Recall: 0.6765 | F1: 0.5986\n",
      "   Thresholds 0.36:: Acc: 0.9456 | Precision: 0.5537 | Recall: 0.6252 | F1: 0.5873\n",
      "   Thresholds 0.38:: Acc: 0.9470 | Precision: 0.5713 | Recall: 0.5755 | F1: 0.5734\n",
      "   Thresholds 0.40:: Acc: 0.9479 | Precision: 0.5883 | Recall: 0.5287 | F1: 0.5569\n",
      "   Thresholds 0.42:: Acc: 0.9486 | Precision: 0.6072 | Recall: 0.4781 | F1: 0.5350\n",
      "   Thresholds 0.44:: Acc: 0.9490 | Precision: 0.6260 | Recall: 0.4364 | F1: 0.5143\n",
      "   Thresholds 0.46:: Acc: 0.9492 | Precision: 0.6452 | Recall: 0.3965 | F1: 0.4911\n",
      "   Thresholds 0.48:: Acc: 0.9492 | Precision: 0.6647 | Recall: 0.3605 | F1: 0.4675\n",
      "   Threshold: 0.34 F1: 0.5986\n"
     ]
    },
    {
     "name": "stderr",
     "output_type": "stream",
     "text": [
      "100%|████████████████████████████████████████████████████████████████| 747/747 [03:40<00:00,  4.11it/s]\n"
     ]
    },
    {
     "name": "stdout",
     "output_type": "stream",
     "text": [
      "The VAL stats :\n",
      "   Loss: 0.0380\n",
      "   Thresholds 0.20:: Acc: 0.9426 | Precision: 0.5234 | Recall: 0.8087 | F1: 0.6355\n",
      "   Thresholds 0.22:: Acc: 0.9448 | Precision: 0.5360 | Recall: 0.7959 | F1: 0.6406\n",
      "   Thresholds 0.24:: Acc: 0.9467 | Precision: 0.5482 | Recall: 0.7842 | F1: 0.6453\n",
      "   Thresholds 0.26:: Acc: 0.9484 | Precision: 0.5601 | Recall: 0.7714 | F1: 0.6490\n",
      "   Thresholds 0.28:: Acc: 0.9500 | Precision: 0.5726 | Recall: 0.7576 | F1: 0.6522\n",
      "   Thresholds 0.30:: Acc: 0.9514 | Precision: 0.5841 | Recall: 0.7443 | F1: 0.6546\n",
      "   Thresholds 0.32:: Acc: 0.9528 | Precision: 0.5967 | Recall: 0.7305 | F1: 0.6568\n",
      "   Thresholds 0.34:: Acc: 0.9541 | Precision: 0.6099 | Recall: 0.7161 | F1: 0.6588\n",
      "   Thresholds 0.36:: Acc: 0.9551 | Precision: 0.6222 | Recall: 0.6999 | F1: 0.6588\n",
      "   Thresholds 0.38:: Acc: 0.9558 | Precision: 0.6332 | Recall: 0.6805 | F1: 0.6560\n",
      "   Thresholds 0.40:: Acc: 0.9566 | Precision: 0.6454 | Recall: 0.6625 | F1: 0.6538\n",
      "   Thresholds 0.42:: Acc: 0.9573 | Precision: 0.6596 | Recall: 0.6412 | F1: 0.6502\n",
      "   Thresholds 0.44:: Acc: 0.9579 | Precision: 0.6742 | Recall: 0.6180 | F1: 0.6449\n",
      "   Thresholds 0.46:: Acc: 0.9581 | Precision: 0.6884 | Recall: 0.5903 | F1: 0.6356\n",
      "   Thresholds 0.48:: Acc: 0.9582 | Precision: 0.7036 | Recall: 0.5603 | F1: 0.6238\n",
      "   Threshold: 0.36 F1: 0.6588\n",
      "             ___________________________________\n",
      "            |Epoch nr. 1 recap (0.6588):        |\n",
      "            |Train: threshold: 0.34 F1: 0.5986  |\n",
      "            |Val  : threshold: 0.36 F1: 0.6588  |\n",
      "            |___________________________________|\n",
      "Predicting for test...\n"
     ]
    },
    {
     "name": "stderr",
     "output_type": "stream",
     "text": [
      "100%|████████████████████████████████████████████████████████████████| 162/162 [00:48<00:00,  3.37it/s]\n"
     ]
    },
    {
     "name": "stdout",
     "output_type": "stream",
     "text": [
      "\n",
      "________________________________________________________________________________\n",
      "Epoch nr 2 :\n"
     ]
    },
    {
     "name": "stderr",
     "output_type": "stream",
     "text": [
      "100%|██████████████████████████████████████████████████████████████| 2986/2986 [30:28<00:00,  1.94it/s]\n"
     ]
    },
    {
     "name": "stdout",
     "output_type": "stream",
     "text": [
      "The TRAIN stats :\n",
      "   Loss: 0.0484\n",
      "   Thresholds 0.20:: Acc: 0.9345 | Precision: 0.4828 | Recall: 0.8306 | F1: 0.6106\n",
      "   Thresholds 0.22:: Acc: 0.9380 | Precision: 0.4992 | Recall: 0.8185 | F1: 0.6202\n",
      "   Thresholds 0.24:: Acc: 0.9409 | Precision: 0.5145 | Recall: 0.8065 | F1: 0.6282\n",
      "   Thresholds 0.26:: Acc: 0.9436 | Precision: 0.5295 | Recall: 0.7934 | F1: 0.6352\n",
      "   Thresholds 0.28:: Acc: 0.9458 | Precision: 0.5433 | Recall: 0.7780 | F1: 0.6398\n",
      "   Thresholds 0.30:: Acc: 0.9479 | Precision: 0.5580 | Recall: 0.7615 | F1: 0.6441\n",
      "   Thresholds 0.32:: Acc: 0.9499 | Precision: 0.5731 | Recall: 0.7427 | F1: 0.6470\n",
      "   Thresholds 0.34:: Acc: 0.9515 | Precision: 0.5884 | Recall: 0.7210 | F1: 0.6480\n",
      "   Thresholds 0.36:: Acc: 0.9524 | Precision: 0.6339 | Recall: 0.5460 | F1: 0.5867\n",
      "   Thresholds 0.38:: Acc: 0.9532 | Precision: 0.6491 | Recall: 0.5296 | F1: 0.5833\n",
      "   Thresholds 0.40:: Acc: 0.9537 | Precision: 0.6631 | Recall: 0.5116 | F1: 0.5776\n",
      "   Thresholds 0.42:: Acc: 0.9540 | Precision: 0.6761 | Recall: 0.4927 | F1: 0.5700\n",
      "   Thresholds 0.44:: Acc: 0.9542 | Precision: 0.6895 | Recall: 0.4727 | F1: 0.5608\n",
      "   Thresholds 0.46:: Acc: 0.9541 | Precision: 0.7008 | Recall: 0.4512 | F1: 0.5490\n",
      "   Thresholds 0.48:: Acc: 0.9540 | Precision: 0.7121 | Recall: 0.4300 | F1: 0.5362\n",
      "   Threshold: 0.34 F1: 0.6480\n"
     ]
    },
    {
     "name": "stderr",
     "output_type": "stream",
     "text": [
      "100%|████████████████████████████████████████████████████████████████| 747/747 [03:40<00:00,  4.19it/s]\n"
     ]
    },
    {
     "name": "stdout",
     "output_type": "stream",
     "text": [
      "The VAL stats :\n",
      "   Loss: 0.0375\n",
      "   Thresholds 0.20:: Acc: 0.9499 | Precision: 0.5689 | Recall: 0.7865 | F1: 0.6602\n",
      "   Thresholds 0.22:: Acc: 0.9514 | Precision: 0.5804 | Recall: 0.7745 | F1: 0.6635\n",
      "   Thresholds 0.24:: Acc: 0.9527 | Precision: 0.5914 | Recall: 0.7631 | F1: 0.6664\n",
      "   Thresholds 0.26:: Acc: 0.9541 | Precision: 0.6035 | Recall: 0.7519 | F1: 0.6696\n",
      "   Thresholds 0.28:: Acc: 0.9549 | Precision: 0.6128 | Recall: 0.7378 | F1: 0.6695\n",
      "   Thresholds 0.30:: Acc: 0.9558 | Precision: 0.6230 | Recall: 0.7230 | F1: 0.6693\n",
      "   Thresholds 0.32:: Acc: 0.9567 | Precision: 0.6338 | Recall: 0.7100 | F1: 0.6697\n",
      "   Thresholds 0.34:: Acc: 0.9573 | Precision: 0.6434 | Recall: 0.6961 | F1: 0.6687\n",
      "   Thresholds 0.36:: Acc: 0.9580 | Precision: 0.6537 | Recall: 0.6812 | F1: 0.6672\n",
      "   Thresholds 0.38:: Acc: 0.9586 | Precision: 0.6649 | Recall: 0.6660 | F1: 0.6655\n",
      "   Thresholds 0.40:: Acc: 0.9589 | Precision: 0.6752 | Recall: 0.6468 | F1: 0.6607\n",
      "   Thresholds 0.42:: Acc: 0.9592 | Precision: 0.6867 | Recall: 0.6273 | F1: 0.6556\n",
      "   Thresholds 0.44:: Acc: 0.9592 | Precision: 0.6969 | Recall: 0.6034 | F1: 0.6468\n",
      "   Thresholds 0.46:: Acc: 0.9592 | Precision: 0.7082 | Recall: 0.5804 | F1: 0.6380\n",
      "   Thresholds 0.48:: Acc: 0.9591 | Precision: 0.7192 | Recall: 0.5562 | F1: 0.6273\n",
      "   Threshold: 0.32 F1: 0.6697\n",
      "             ___________________________________\n",
      "            |Epoch nr. 2 recap (0.6697):        |\n",
      "            |Train: threshold: 0.34 F1: 0.6480  |\n",
      "            |Val  : threshold: 0.32 F1: 0.6697  |\n",
      "            |___________________________________|\n",
      "Predicting for test...\n"
     ]
    },
    {
     "name": "stderr",
     "output_type": "stream",
     "text": [
      "100%|████████████████████████████████████████████████████████████████| 162/162 [00:48<00:00,  3.37it/s]\n"
     ]
    },
    {
     "name": "stdout",
     "output_type": "stream",
     "text": [
      "\n",
      "________________________________________________________________________________\n",
      "Epoch nr 3 :\n"
     ]
    },
    {
     "name": "stderr",
     "output_type": "stream",
     "text": [
      "100%|██████████████████████████████████████████████████████████████| 2986/2986 [30:48<00:00,  1.83it/s]\n"
     ]
    },
    {
     "name": "stdout",
     "output_type": "stream",
     "text": [
      "The TRAIN stats :\n",
      "   Loss: 0.0458\n",
      "   Thresholds 0.20:: Acc: 0.9379 | Precision: 0.4989 | Recall: 0.8496 | F1: 0.6287\n",
      "   Thresholds 0.22:: Acc: 0.9409 | Precision: 0.5138 | Recall: 0.8387 | F1: 0.6373\n",
      "   Thresholds 0.24:: Acc: 0.9435 | Precision: 0.5277 | Recall: 0.8272 | F1: 0.6444\n",
      "   Thresholds 0.26:: Acc: 0.9459 | Precision: 0.5415 | Recall: 0.8151 | F1: 0.6507\n",
      "   Thresholds 0.28:: Acc: 0.9478 | Precision: 0.5542 | Recall: 0.8022 | F1: 0.6556\n",
      "   Thresholds 0.30:: Acc: 0.9496 | Precision: 0.5669 | Recall: 0.7880 | F1: 0.6594\n",
      "   Thresholds 0.32:: Acc: 0.9513 | Precision: 0.5799 | Recall: 0.7726 | F1: 0.6625\n",
      "   Thresholds 0.34:: Acc: 0.9527 | Precision: 0.5929 | Recall: 0.7537 | F1: 0.6637\n",
      "   Thresholds 0.36:: Acc: 0.9541 | Precision: 0.6119 | Recall: 0.7048 | F1: 0.6550\n",
      "   Thresholds 0.38:: Acc: 0.9547 | Precision: 0.6558 | Recall: 0.5639 | F1: 0.6063\n",
      "   Thresholds 0.40:: Acc: 0.9552 | Precision: 0.6710 | Recall: 0.5416 | F1: 0.5994\n",
      "   Thresholds 0.42:: Acc: 0.9555 | Precision: 0.6842 | Recall: 0.5222 | F1: 0.5923\n",
      "   Thresholds 0.44:: Acc: 0.9557 | Precision: 0.6974 | Recall: 0.5024 | F1: 0.5841\n",
      "   Thresholds 0.46:: Acc: 0.9558 | Precision: 0.7098 | Recall: 0.4822 | F1: 0.5742\n",
      "   Thresholds 0.48:: Acc: 0.9557 | Precision: 0.7229 | Recall: 0.4610 | F1: 0.5629\n",
      "   Threshold: 0.34 F1: 0.6637\n"
     ]
    },
    {
     "name": "stderr",
     "output_type": "stream",
     "text": [
      "100%|████████████████████████████████████████████████████████████████| 747/747 [03:51<00:00,  3.93it/s]\n"
     ]
    },
    {
     "name": "stdout",
     "output_type": "stream",
     "text": [
      "The VAL stats :\n",
      "   Loss: 0.0368\n",
      "   Thresholds 0.20:: Acc: 0.9464 | Precision: 0.5443 | Recall: 0.8188 | F1: 0.6540\n",
      "   Thresholds 0.22:: Acc: 0.9482 | Precision: 0.5561 | Recall: 0.8070 | F1: 0.6585\n",
      "   Thresholds 0.24:: Acc: 0.9501 | Precision: 0.5689 | Recall: 0.7963 | F1: 0.6636\n",
      "   Thresholds 0.26:: Acc: 0.9515 | Precision: 0.5798 | Recall: 0.7841 | F1: 0.6667\n",
      "   Thresholds 0.28:: Acc: 0.9530 | Precision: 0.5922 | Recall: 0.7717 | F1: 0.6702\n",
      "   Thresholds 0.30:: Acc: 0.9542 | Precision: 0.6031 | Recall: 0.7594 | F1: 0.6723\n",
      "   Thresholds 0.32:: Acc: 0.9554 | Precision: 0.6153 | Recall: 0.7469 | F1: 0.6747\n",
      "   Thresholds 0.34:: Acc: 0.9567 | Precision: 0.6288 | Recall: 0.7324 | F1: 0.6767\n",
      "   Thresholds 0.36:: Acc: 0.9575 | Precision: 0.6404 | Recall: 0.7158 | F1: 0.6760\n",
      "   Thresholds 0.38:: Acc: 0.9582 | Precision: 0.6520 | Recall: 0.6968 | F1: 0.6737\n",
      "   Thresholds 0.40:: Acc: 0.9588 | Precision: 0.6640 | Recall: 0.6771 | F1: 0.6705\n",
      "   Thresholds 0.42:: Acc: 0.9593 | Precision: 0.6761 | Recall: 0.6576 | F1: 0.6667\n",
      "   Thresholds 0.44:: Acc: 0.9597 | Precision: 0.6880 | Recall: 0.6391 | F1: 0.6626\n",
      "   Thresholds 0.46:: Acc: 0.9599 | Precision: 0.6998 | Recall: 0.6163 | F1: 0.6554\n",
      "   Thresholds 0.48:: Acc: 0.9599 | Precision: 0.7105 | Recall: 0.5932 | F1: 0.6465\n",
      "   Threshold: 0.34 F1: 0.6767\n",
      "             ___________________________________\n",
      "            |Epoch nr. 3 recap (0.6767):        |\n",
      "            |Train: threshold: 0.34 F1: 0.6637  |\n",
      "            |Val  : threshold: 0.34 F1: 0.6767  |\n",
      "            |___________________________________|\n",
      "Predicting for test...\n"
     ]
    },
    {
     "name": "stderr",
     "output_type": "stream",
     "text": [
      "100%|████████████████████████████████████████████████████████████████| 162/162 [00:49<00:00,  3.26it/s]\n"
     ]
    },
    {
     "name": "stdout",
     "output_type": "stream",
     "text": [
      "\n",
      "________________________________________________________________________________\n",
      "Epoch nr 4 :\n"
     ]
    },
    {
     "name": "stderr",
     "output_type": "stream",
     "text": [
      "100%|██████████████████████████████████████████████████████████████| 2986/2986 [30:34<00:00,  1.91it/s]\n"
     ]
    },
    {
     "name": "stdout",
     "output_type": "stream",
     "text": [
      "The TRAIN stats :\n",
      "   Loss: 0.0433\n",
      "   Thresholds 0.20:: Acc: 0.9405 | Precision: 0.5114 | Recall: 0.8634 | F1: 0.6423\n",
      "   Thresholds 0.22:: Acc: 0.9432 | Precision: 0.5252 | Recall: 0.8540 | F1: 0.6504\n",
      "   Thresholds 0.24:: Acc: 0.9456 | Precision: 0.5388 | Recall: 0.8433 | F1: 0.6575\n",
      "   Thresholds 0.26:: Acc: 0.9477 | Precision: 0.5511 | Recall: 0.8324 | F1: 0.6631\n",
      "   Thresholds 0.28:: Acc: 0.9495 | Precision: 0.5632 | Recall: 0.8204 | F1: 0.6679\n",
      "   Thresholds 0.30:: Acc: 0.9513 | Precision: 0.5757 | Recall: 0.8081 | F1: 0.6723\n",
      "   Thresholds 0.32:: Acc: 0.9529 | Precision: 0.5883 | Recall: 0.7932 | F1: 0.6755\n",
      "   Thresholds 0.34:: Acc: 0.9542 | Precision: 0.6008 | Recall: 0.7751 | F1: 0.6769\n",
      "   Thresholds 0.36:: Acc: 0.9563 | Precision: 0.6382 | Recall: 0.6773 | F1: 0.6572\n",
      "   Thresholds 0.38:: Acc: 0.9575 | Precision: 0.6674 | Recall: 0.6237 | F1: 0.6448\n",
      "   Thresholds 0.40:: Acc: 0.9580 | Precision: 0.6812 | Recall: 0.6035 | F1: 0.6400\n",
      "   Thresholds 0.42:: Acc: 0.9583 | Precision: 0.6946 | Recall: 0.5820 | F1: 0.6333\n",
      "   Thresholds 0.44:: Acc: 0.9585 | Precision: 0.7081 | Recall: 0.5599 | F1: 0.6253\n",
      "   Thresholds 0.46:: Acc: 0.9585 | Precision: 0.7204 | Recall: 0.5377 | F1: 0.6157\n",
      "   Thresholds 0.48:: Acc: 0.9583 | Precision: 0.7323 | Recall: 0.5146 | F1: 0.6044\n",
      "   Threshold: 0.34 F1: 0.6769\n"
     ]
    },
    {
     "name": "stderr",
     "output_type": "stream",
     "text": [
      "100%|████████████████████████████████████████████████████████████████| 747/747 [03:39<00:00,  4.02it/s]\n"
     ]
    },
    {
     "name": "stdout",
     "output_type": "stream",
     "text": [
      "The VAL stats :\n",
      "   Loss: 0.0377\n",
      "   Thresholds 0.20:: Acc: 0.9486 | Precision: 0.5582 | Recall: 0.8073 | F1: 0.6600\n",
      "   Thresholds 0.22:: Acc: 0.9501 | Precision: 0.5690 | Recall: 0.7979 | F1: 0.6643\n",
      "   Thresholds 0.24:: Acc: 0.9516 | Precision: 0.5797 | Recall: 0.7886 | F1: 0.6682\n",
      "   Thresholds 0.26:: Acc: 0.9528 | Precision: 0.5898 | Recall: 0.7792 | F1: 0.6714\n",
      "   Thresholds 0.28:: Acc: 0.9539 | Precision: 0.5995 | Recall: 0.7688 | F1: 0.6737\n",
      "   Thresholds 0.30:: Acc: 0.9550 | Precision: 0.6100 | Recall: 0.7570 | F1: 0.6756\n",
      "   Thresholds 0.32:: Acc: 0.9559 | Precision: 0.6197 | Recall: 0.7433 | F1: 0.6759\n",
      "   Thresholds 0.34:: Acc: 0.9569 | Precision: 0.6313 | Recall: 0.7279 | F1: 0.6762\n",
      "   Thresholds 0.36:: Acc: 0.9580 | Precision: 0.6458 | Recall: 0.7107 | F1: 0.6767\n",
      "   Thresholds 0.38:: Acc: 0.9590 | Precision: 0.6621 | Recall: 0.6891 | F1: 0.6753\n",
      "   Thresholds 0.40:: Acc: 0.9595 | Precision: 0.6755 | Recall: 0.6661 | F1: 0.6708\n",
      "   Thresholds 0.42:: Acc: 0.9600 | Precision: 0.6896 | Recall: 0.6435 | F1: 0.6657\n",
      "   Thresholds 0.44:: Acc: 0.9603 | Precision: 0.7027 | Recall: 0.6214 | F1: 0.6596\n",
      "   Thresholds 0.46:: Acc: 0.9603 | Precision: 0.7136 | Recall: 0.5973 | F1: 0.6503\n",
      "   Thresholds 0.48:: Acc: 0.9601 | Precision: 0.7232 | Recall: 0.5743 | F1: 0.6402\n",
      "   Threshold: 0.36 F1: 0.6767\n",
      "             ___________________________________\n",
      "            |Epoch nr. 4 recap (0.6767):        |\n",
      "            |Train: threshold: 0.34 F1: 0.6769  |\n",
      "            |Val  : threshold: 0.36 F1: 0.6767  |\n",
      "            |___________________________________|\n",
      "Predicting for test...\n"
     ]
    },
    {
     "name": "stderr",
     "output_type": "stream",
     "text": [
      "100%|████████████████████████████████████████████████████████████████| 162/162 [00:47<00:00,  3.44it/s]\n"
     ]
    },
    {
     "name": "stdout",
     "output_type": "stream",
     "text": [
      "\n",
      "________________________________________________________________________________\n",
      "Epoch nr 5 :\n"
     ]
    },
    {
     "name": "stderr",
     "output_type": "stream",
     "text": [
      "100%|██████████████████████████████████████████████████████████████| 2986/2986 [30:31<00:00,  1.95it/s]\n"
     ]
    },
    {
     "name": "stdout",
     "output_type": "stream",
     "text": [
      "The TRAIN stats :\n",
      "   Loss: 0.0414\n",
      "   Thresholds 0.20:: Acc: 0.9439 | Precision: 0.5281 | Recall: 0.8779 | F1: 0.6595\n",
      "   Thresholds 0.22:: Acc: 0.9463 | Precision: 0.5410 | Recall: 0.8686 | F1: 0.6667\n",
      "   Thresholds 0.24:: Acc: 0.9484 | Precision: 0.5534 | Recall: 0.8592 | F1: 0.6732\n",
      "   Thresholds 0.26:: Acc: 0.9502 | Precision: 0.5651 | Recall: 0.8491 | F1: 0.6786\n",
      "   Thresholds 0.28:: Acc: 0.9517 | Precision: 0.5754 | Recall: 0.8382 | F1: 0.6824\n",
      "   Thresholds 0.30:: Acc: 0.9532 | Precision: 0.5861 | Recall: 0.8268 | F1: 0.6860\n",
      "   Thresholds 0.32:: Acc: 0.9544 | Precision: 0.5966 | Recall: 0.8137 | F1: 0.6885\n",
      "   Thresholds 0.34:: Acc: 0.9556 | Precision: 0.6077 | Recall: 0.7984 | F1: 0.6901\n",
      "   Thresholds 0.36:: Acc: 0.9567 | Precision: 0.6193 | Recall: 0.7808 | F1: 0.6907\n",
      "   Thresholds 0.38:: Acc: 0.9583 | Precision: 0.6577 | Recall: 0.6788 | F1: 0.6681\n",
      "   Thresholds 0.40:: Acc: 0.9591 | Precision: 0.6856 | Recall: 0.6263 | F1: 0.6546\n",
      "   Thresholds 0.42:: Acc: 0.9594 | Precision: 0.6989 | Recall: 0.6047 | F1: 0.6484\n",
      "   Thresholds 0.44:: Acc: 0.9596 | Precision: 0.7113 | Recall: 0.5828 | F1: 0.6407\n",
      "   Thresholds 0.46:: Acc: 0.9595 | Precision: 0.7237 | Recall: 0.5599 | F1: 0.6313\n",
      "   Thresholds 0.48:: Acc: 0.9594 | Precision: 0.7358 | Recall: 0.5374 | F1: 0.6212\n",
      "   Threshold: 0.36 F1: 0.6907\n"
     ]
    },
    {
     "name": "stderr",
     "output_type": "stream",
     "text": [
      "100%|████████████████████████████████████████████████████████████████| 747/747 [03:41<00:00,  4.07it/s]\n"
     ]
    },
    {
     "name": "stdout",
     "output_type": "stream",
     "text": [
      "The VAL stats :\n",
      "   Loss: 0.0394\n",
      "   Thresholds 0.20:: Acc: 0.9480 | Precision: 0.5553 | Recall: 0.8010 | F1: 0.6559\n",
      "   Thresholds 0.22:: Acc: 0.9495 | Precision: 0.5652 | Recall: 0.7937 | F1: 0.6602\n",
      "   Thresholds 0.24:: Acc: 0.9505 | Precision: 0.5730 | Recall: 0.7859 | F1: 0.6628\n",
      "   Thresholds 0.26:: Acc: 0.9516 | Precision: 0.5815 | Recall: 0.7790 | F1: 0.6660\n",
      "   Thresholds 0.28:: Acc: 0.9527 | Precision: 0.5902 | Recall: 0.7716 | F1: 0.6688\n",
      "   Thresholds 0.30:: Acc: 0.9537 | Precision: 0.5986 | Recall: 0.7630 | F1: 0.6709\n",
      "   Thresholds 0.32:: Acc: 0.9546 | Precision: 0.6075 | Recall: 0.7539 | F1: 0.6728\n",
      "   Thresholds 0.34:: Acc: 0.9555 | Precision: 0.6165 | Recall: 0.7418 | F1: 0.6734\n",
      "   Thresholds 0.36:: Acc: 0.9563 | Precision: 0.6263 | Recall: 0.7290 | F1: 0.6737\n",
      "   Thresholds 0.38:: Acc: 0.9573 | Precision: 0.6384 | Recall: 0.7149 | F1: 0.6745\n",
      "   Thresholds 0.40:: Acc: 0.9585 | Precision: 0.6561 | Recall: 0.6916 | F1: 0.6734\n",
      "   Thresholds 0.42:: Acc: 0.9594 | Precision: 0.6714 | Recall: 0.6729 | F1: 0.6721\n",
      "   Thresholds 0.44:: Acc: 0.9597 | Precision: 0.6838 | Recall: 0.6495 | F1: 0.6662\n",
      "   Thresholds 0.46:: Acc: 0.9600 | Precision: 0.6956 | Recall: 0.6273 | F1: 0.6597\n",
      "   Thresholds 0.48:: Acc: 0.9600 | Precision: 0.7057 | Recall: 0.6072 | F1: 0.6528\n",
      "   Threshold: 0.38 F1: 0.6745\n",
      "             ___________________________________\n",
      "            |Epoch nr. 5 recap (0.6745):        |\n",
      "            |Train: threshold: 0.36 F1: 0.6907  |\n",
      "            |Val  : threshold: 0.38 F1: 0.6745  |\n",
      "            |___________________________________|\n",
      "\n",
      "________________________________________________________________________________\n",
      "Epoch nr 6 :\n"
     ]
    },
    {
     "name": "stderr",
     "output_type": "stream",
     "text": [
      "100%|██████████████████████████████████████████████████████████████| 2986/2986 [30:32<00:00,  1.78it/s]\n"
     ]
    },
    {
     "name": "stdout",
     "output_type": "stream",
     "text": [
      "The TRAIN stats :\n",
      "   Loss: 0.0396\n",
      "   Thresholds 0.20:: Acc: 0.9465 | Precision: 0.5411 | Recall: 0.8880 | F1: 0.6724\n",
      "   Thresholds 0.22:: Acc: 0.9485 | Precision: 0.5528 | Recall: 0.8802 | F1: 0.6791\n",
      "   Thresholds 0.24:: Acc: 0.9505 | Precision: 0.5644 | Recall: 0.8726 | F1: 0.6855\n",
      "   Thresholds 0.26:: Acc: 0.9521 | Precision: 0.5749 | Recall: 0.8643 | F1: 0.6905\n",
      "   Thresholds 0.28:: Acc: 0.9535 | Precision: 0.5848 | Recall: 0.8555 | F1: 0.6947\n",
      "   Thresholds 0.30:: Acc: 0.9547 | Precision: 0.5939 | Recall: 0.8457 | F1: 0.6978\n",
      "   Thresholds 0.32:: Acc: 0.9558 | Precision: 0.6034 | Recall: 0.8351 | F1: 0.7006\n",
      "   Thresholds 0.34:: Acc: 0.9568 | Precision: 0.6123 | Recall: 0.8228 | F1: 0.7021\n",
      "   Thresholds 0.36:: Acc: 0.9578 | Precision: 0.6219 | Recall: 0.8089 | F1: 0.7032\n",
      "   Thresholds 0.38:: Acc: 0.9585 | Precision: 0.6317 | Recall: 0.7913 | F1: 0.7025\n",
      "   Thresholds 0.40:: Acc: 0.9597 | Precision: 0.6661 | Recall: 0.6990 | F1: 0.6821\n",
      "   Thresholds 0.42:: Acc: 0.9603 | Precision: 0.6992 | Recall: 0.6292 | F1: 0.6623\n",
      "   Thresholds 0.44:: Acc: 0.9606 | Precision: 0.7125 | Recall: 0.6079 | F1: 0.6561\n",
      "   Thresholds 0.46:: Acc: 0.9606 | Precision: 0.7247 | Recall: 0.5866 | F1: 0.6484\n",
      "   Thresholds 0.48:: Acc: 0.9605 | Precision: 0.7359 | Recall: 0.5641 | F1: 0.6386\n",
      "   Threshold: 0.36 F1: 0.7032\n"
     ]
    },
    {
     "name": "stderr",
     "output_type": "stream",
     "text": [
      "100%|████████████████████████████████████████████████████████████████| 747/747 [03:43<00:00,  3.91it/s]\n"
     ]
    },
    {
     "name": "stdout",
     "output_type": "stream",
     "text": [
      "The VAL stats :\n",
      "   Loss: 0.0417\n",
      "   Thresholds 0.20:: Acc: 0.9512 | Precision: 0.5787 | Recall: 0.7779 | F1: 0.6637\n",
      "   Thresholds 0.22:: Acc: 0.9523 | Precision: 0.5872 | Recall: 0.7701 | F1: 0.6663\n",
      "   Thresholds 0.24:: Acc: 0.9532 | Precision: 0.5949 | Recall: 0.7624 | F1: 0.6683\n",
      "   Thresholds 0.26:: Acc: 0.9540 | Precision: 0.6023 | Recall: 0.7545 | F1: 0.6698\n",
      "   Thresholds 0.28:: Acc: 0.9548 | Precision: 0.6100 | Recall: 0.7461 | F1: 0.6712\n",
      "   Thresholds 0.30:: Acc: 0.9554 | Precision: 0.6169 | Recall: 0.7374 | F1: 0.6718\n",
      "   Thresholds 0.32:: Acc: 0.9561 | Precision: 0.6244 | Recall: 0.7286 | F1: 0.6725\n",
      "   Thresholds 0.34:: Acc: 0.9568 | Precision: 0.6324 | Recall: 0.7197 | F1: 0.6732\n",
      "   Thresholds 0.36:: Acc: 0.9574 | Precision: 0.6410 | Recall: 0.7094 | F1: 0.6735\n",
      "   Thresholds 0.38:: Acc: 0.9581 | Precision: 0.6510 | Recall: 0.6964 | F1: 0.6729\n",
      "   Thresholds 0.40:: Acc: 0.9588 | Precision: 0.6623 | Recall: 0.6806 | F1: 0.6713\n",
      "   Thresholds 0.42:: Acc: 0.9594 | Precision: 0.6770 | Recall: 0.6585 | F1: 0.6676\n",
      "   Thresholds 0.44:: Acc: 0.9597 | Precision: 0.6868 | Recall: 0.6396 | F1: 0.6624\n",
      "   Thresholds 0.46:: Acc: 0.9598 | Precision: 0.6965 | Recall: 0.6201 | F1: 0.6561\n",
      "   Thresholds 0.48:: Acc: 0.9597 | Precision: 0.7052 | Recall: 0.5978 | F1: 0.6471\n",
      "   Threshold: 0.36 F1: 0.6735\n",
      "             ___________________________________\n",
      "            |Epoch nr. 6 recap (0.6735):        |\n",
      "            |Train: threshold: 0.36 F1: 0.7032  |\n",
      "            |Val  : threshold: 0.36 F1: 0.6735  |\n",
      "            |___________________________________|\n",
      "\n",
      "________________________________________________________________________________\n",
      "Epoch nr 7 :\n"
     ]
    },
    {
     "name": "stderr",
     "output_type": "stream",
     "text": [
      "100%|██████████████████████████████████████████████████████████████| 2986/2986 [30:50<00:00,  1.97it/s]\n"
     ]
    },
    {
     "name": "stdout",
     "output_type": "stream",
     "text": [
      "The TRAIN stats :\n",
      "   Loss: 0.0378\n",
      "   Thresholds 0.20:: Acc: 0.9493 | Precision: 0.5556 | Recall: 0.9000 | F1: 0.6871\n",
      "   Thresholds 0.22:: Acc: 0.9512 | Precision: 0.5671 | Recall: 0.8929 | F1: 0.6936\n",
      "   Thresholds 0.24:: Acc: 0.9528 | Precision: 0.5772 | Recall: 0.8857 | F1: 0.6989\n",
      "   Thresholds 0.26:: Acc: 0.9541 | Precision: 0.5863 | Recall: 0.8779 | F1: 0.7031\n",
      "   Thresholds 0.28:: Acc: 0.9554 | Precision: 0.5958 | Recall: 0.8700 | F1: 0.7073\n",
      "   Thresholds 0.30:: Acc: 0.9566 | Precision: 0.6046 | Recall: 0.8621 | F1: 0.7107\n",
      "   Thresholds 0.32:: Acc: 0.9576 | Precision: 0.6129 | Recall: 0.8532 | F1: 0.7134\n",
      "   Thresholds 0.34:: Acc: 0.9584 | Precision: 0.6204 | Recall: 0.8423 | F1: 0.7145\n",
      "   Thresholds 0.36:: Acc: 0.9591 | Precision: 0.6284 | Recall: 0.8310 | F1: 0.7156\n",
      "   Thresholds 0.38:: Acc: 0.9598 | Precision: 0.6362 | Recall: 0.8177 | F1: 0.7156\n",
      "   Thresholds 0.40:: Acc: 0.9604 | Precision: 0.6444 | Recall: 0.8024 | F1: 0.7148\n",
      "   Thresholds 0.42:: Acc: 0.9610 | Precision: 0.6714 | Recall: 0.7242 | F1: 0.6968\n",
      "   Thresholds 0.44:: Acc: 0.9617 | Precision: 0.7152 | Recall: 0.6321 | F1: 0.6711\n",
      "   Thresholds 0.46:: Acc: 0.9617 | Precision: 0.7275 | Recall: 0.6103 | F1: 0.6638\n",
      "   Thresholds 0.48:: Acc: 0.9618 | Precision: 0.7410 | Recall: 0.5876 | F1: 0.6554\n",
      "   Threshold: 0.36 F1: 0.7156\n"
     ]
    },
    {
     "name": "stderr",
     "output_type": "stream",
     "text": [
      "100%|████████████████████████████████████████████████████████████████| 747/747 [03:40<00:00,  4.05it/s]\n"
     ]
    },
    {
     "name": "stdout",
     "output_type": "stream",
     "text": [
      "The VAL stats :\n",
      "   Loss: 0.0478\n",
      "   Thresholds 0.20:: Acc: 0.9538 | Precision: 0.6016 | Recall: 0.7483 | F1: 0.6670\n",
      "   Thresholds 0.22:: Acc: 0.9544 | Precision: 0.6077 | Recall: 0.7424 | F1: 0.6683\n",
      "   Thresholds 0.24:: Acc: 0.9548 | Precision: 0.6119 | Recall: 0.7353 | F1: 0.6679\n",
      "   Thresholds 0.26:: Acc: 0.9552 | Precision: 0.6169 | Recall: 0.7291 | F1: 0.6683\n",
      "   Thresholds 0.28:: Acc: 0.9556 | Precision: 0.6213 | Recall: 0.7220 | F1: 0.6679\n",
      "   Thresholds 0.30:: Acc: 0.9560 | Precision: 0.6261 | Recall: 0.7156 | F1: 0.6679\n",
      "   Thresholds 0.32:: Acc: 0.9564 | Precision: 0.6315 | Recall: 0.7086 | F1: 0.6679\n",
      "   Thresholds 0.34:: Acc: 0.9568 | Precision: 0.6373 | Recall: 0.7010 | F1: 0.6676\n",
      "   Thresholds 0.36:: Acc: 0.9573 | Precision: 0.6437 | Recall: 0.6939 | F1: 0.6679\n",
      "   Thresholds 0.38:: Acc: 0.9578 | Precision: 0.6505 | Recall: 0.6859 | F1: 0.6678\n",
      "   Thresholds 0.40:: Acc: 0.9582 | Precision: 0.6570 | Recall: 0.6776 | F1: 0.6671\n",
      "   Thresholds 0.42:: Acc: 0.9586 | Precision: 0.6648 | Recall: 0.6660 | F1: 0.6654\n",
      "   Thresholds 0.44:: Acc: 0.9590 | Precision: 0.6774 | Recall: 0.6454 | F1: 0.6610\n",
      "   Thresholds 0.46:: Acc: 0.9593 | Precision: 0.6872 | Recall: 0.6267 | F1: 0.6556\n",
      "   Thresholds 0.48:: Acc: 0.9595 | Precision: 0.6982 | Recall: 0.6095 | F1: 0.6508\n",
      "   Threshold: 0.22 F1: 0.6683\n",
      "             ___________________________________\n",
      "            |Epoch nr. 7 recap (0.6683):        |\n",
      "            |Train: threshold: 0.36 F1: 0.7156  |\n",
      "            |Val  : threshold: 0.22 F1: 0.6683  |\n",
      "            |___________________________________|\n",
      "My stats: Thresholds 0.35999999999999993:: F1: 0.6767, epoch: 4\n",
      "Best scor in competition so far: 0.699\n"
     ]
    }
   ],
   "source": [
    "first_output, first_th, first_score = run()\n",
    "second_output, second_th, second_score = run()\n",
    "if first_score > second_score:\n",
    "    output = first_output\n",
    "    th = first_th\n",
    "    f1_score = first_score\n",
    "else:\n",
    "    output = second_output\n",
    "    th = second_th\n",
    "    f1_score = second_score"
   ]
  },
  {
   "cell_type": "code",
   "execution_count": null,
   "metadata": {},
   "outputs": [],
   "source": [
    "print(output)\n",
    "print(th)\n",
    "print(f1_score)"
   ]
  },
  {
   "cell_type": "code",
   "execution_count": null,
   "metadata": {},
   "outputs": [],
   "source": [
    "out = output\n",
    "output[output<=th] = 0\n",
    "output[output>th] = 1\n",
    "out = output.astype(int)"
   ]
  },
  {
   "cell_type": "code",
   "execution_count": null,
   "metadata": {},
   "outputs": [],
   "source": []
  }
 ],
 "metadata": {
  "kernelspec": {
   "display_name": "Python 3",
   "language": "python",
   "name": "python3"
  },
  "language_info": {
   "codemirror_mode": {
    "name": "ipython",
    "version": 3
   },
   "file_extension": ".py",
   "mimetype": "text/x-python",
   "name": "python",
   "nbconvert_exporter": "python",
   "pygments_lexer": "ipython3",
   "version": "3.6.6"
  }
 },
 "nbformat": 4,
 "nbformat_minor": 1
}
